{
 "cells": [
  {
   "cell_type": "code",
   "execution_count": 1,
   "metadata": {},
   "outputs": [],
   "source": [
    "from utils import *\n",
    "from sklearn.pipeline import Pipeline\n",
    "from sklearn.ensemble import RandomForestClassifier\n",
    "from sklearn.metrics import classification_report"
   ]
  },
  {
   "cell_type": "markdown",
   "metadata": {},
   "source": [
    "# Load Data"
   ]
  },
  {
   "cell_type": "code",
   "execution_count": 2,
   "metadata": {},
   "outputs": [
    {
     "name": "stdout",
     "output_type": "stream",
     "text": [
      "Date Of Birth is NOT A STRING\n",
      "Intake Date is NOT A STRING\n",
      "Outcome Date is NOT A STRING\n",
      "Days in Shelter is NOT A STRING\n",
      "Count is NOT A STRING\n",
      "replace null values in Name with 'Unknown'\n",
      "replace null values in Size with 'Unknown'\n",
      "replace null values in Outcome_Type with 'Unknown'\n",
      "replace null values in Outcome_Subtype with 'Unknown'\n",
      "replace null values in Outcome_Condition with 'Unknown'\n",
      "replace null values in Outcome_Jurisdiction with 'Unknown'\n",
      "replace null values in Outcome_Zip_Code with 'Unknown'\n",
      "replace null values in Location with 'Unknown'\n",
      "Intake Date is NOT A STRING\n",
      "Outcome Date is NOT A STRING\n"
     ]
    },
    {
     "name": "stderr",
     "output_type": "stream",
     "text": [
      "/Users/robchimel/Documents/School/MIDS/210_Capstone/MIDS210-FURever-Home-Forecast/load_Denver.py:78: UserWarning: Could not infer format, so each element will be parsed individually, falling back to `dateutil`. To ensure parsing is consistent and as-expected, please specify a format.\n",
      "  df['Outcome Date'] = pd.to_datetime(df['Outcome Date'], errors='coerce')\n"
     ]
    },
    {
     "name": "stdout",
     "output_type": "stream",
     "text": [
      "replace null values in Name with 'Unknown'\n",
      "replace null values in Date_Of_Birth with 'Unknown'\n",
      "replace null values in Outcome_Type with 'Unknown'\n",
      "replace null values in Intake_Subtype with 'Unknown'\n",
      "replace null values in Outcome_Subtype with 'Unknown'\n",
      "replace null values in Outcome_Condition with 'Unknown'\n",
      "replace null values in Impound_Number with 'Unknown'\n",
      "replace null values in Kennel_Number with 'Unknown'\n",
      "replace null values in Animal_ID with 'Unknown'\n",
      "replace null values in Intake_Jurisdiction with 'Unknown'\n",
      "replace null values in Outcome_Jurisdiction with 'Unknown'\n",
      "replace null values in Outcome_Zip_Code with 'Unknown'\n",
      "replace null values in Location with 'Unknown'\n",
      "replace null values in Multiple_Visit_Count with 'np.nan'\n",
      "replace null values in Age_inDays_at_Income with 'np.nan'\n",
      "replace null values in Age_Group with 'Unknown'\n",
      "replace null values in Is_Mixed_Breed with 'np.nan'\n",
      "replace null values in Is_Multicolor with 'np.nan'\n"
     ]
    },
    {
     "name": "stderr",
     "output_type": "stream",
     "text": [
      "/Users/robchimel/opt/anaconda3/envs/cv_281_3/lib/python3.8/site-packages/sklearn/cluster/_kmeans.py:1412: FutureWarning: The default value of `n_init` will change from 10 to 'auto' in 1.4. Set the value of `n_init` explicitly to suppress the warning\n",
      "  super()._check_params_vs_input(X, default_n_init=10)\n",
      "/Users/robchimel/opt/anaconda3/envs/cv_281_3/lib/python3.8/site-packages/sklearn/cluster/_kmeans.py:1412: FutureWarning: The default value of `n_init` will change from 10 to 'auto' in 1.4. Set the value of `n_init` explicitly to suppress the warning\n",
      "  super()._check_params_vs_input(X, default_n_init=10)\n",
      "/Users/robchimel/opt/anaconda3/envs/cv_281_3/lib/python3.8/site-packages/sklearn/cluster/_kmeans.py:1412: FutureWarning: The default value of `n_init` will change from 10 to 'auto' in 1.4. Set the value of `n_init` explicitly to suppress the warning\n",
      "  super()._check_params_vs_input(X, default_n_init=10)\n"
     ]
    }
   ],
   "source": [
    "params = {\n",
    "        'na_data': 'fill',\n",
    "        'drop_outlier_days': 300,\n",
    "        'embed':True,\n",
    "        'buckets':[-1,3,14,30,100,99999999],\n",
    "        'sample_dict':\n",
    "            {\n",
    "            'stratify_col':'Type',\n",
    "            'train_size':0.6, 'validate_size':0.2, 'test_size':0.2\n",
    "            }\n",
    "        }\n",
    "train_df, validate_df, test_df = load_df(params)"
   ]
  },
  {
   "cell_type": "markdown",
   "metadata": {},
   "source": [
    "# Create Preprocessor"
   ]
  },
  {
   "cell_type": "code",
   "execution_count": 3,
   "metadata": {},
   "outputs": [],
   "source": [
    "preprocessor, X_train, y_train, X_test, y_test = sklearn_pipeline(train_df, validate_df)"
   ]
  },
  {
   "cell_type": "markdown",
   "metadata": {},
   "source": [
    "# Create Pipeline"
   ]
  },
  {
   "cell_type": "code",
   "execution_count": 4,
   "metadata": {},
   "outputs": [],
   "source": [
    "# Create the pipeline with the preprocessor and the RandomForestClassifier\n",
    "pipeline = Pipeline(steps=[\n",
    "    ('preprocessor', preprocessor),\n",
    "    ('classifier', RandomForestClassifier(random_state=42))\n",
    "])"
   ]
  },
  {
   "cell_type": "markdown",
   "metadata": {},
   "source": [
    "# Train Model"
   ]
  },
  {
   "cell_type": "code",
   "execution_count": 5,
   "metadata": {},
   "outputs": [
    {
     "name": "stdout",
     "output_type": "stream",
     "text": [
      "              precision    recall  f1-score   support\n",
      "\n",
      "           0       0.65      0.74      0.69      3051\n",
      "           1       0.50      0.50      0.50      2344\n",
      "           2       0.37      0.28      0.32      1188\n",
      "           3       0.48      0.45      0.47       974\n",
      "           4       0.26      0.15      0.19        80\n",
      "\n",
      "    accuracy                           0.55      7637\n",
      "   macro avg       0.45      0.42      0.43      7637\n",
      "weighted avg       0.54      0.55      0.54      7637\n",
      "\n"
     ]
    }
   ],
   "source": [
    "# Train the model\n",
    "pipeline.fit(X_train, y_train)\n",
    "# Predict on the test data\n",
    "y_pred = pipeline.predict(X_test)\n",
    "# Evaluate the model\n",
    "print(classification_report(y_test, y_pred))"
   ]
  }
 ],
 "metadata": {
  "kernelspec": {
   "display_name": "cv_281_3",
   "language": "python",
   "name": "python3"
  },
  "language_info": {
   "codemirror_mode": {
    "name": "ipython",
    "version": 3
   },
   "file_extension": ".py",
   "mimetype": "text/x-python",
   "name": "python",
   "nbconvert_exporter": "python",
   "pygments_lexer": "ipython3",
   "version": "3.8.18"
  }
 },
 "nbformat": 4,
 "nbformat_minor": 2
}
