{
 "cells": [
  {
   "cell_type": "code",
   "execution_count": 1,
   "metadata": {},
   "outputs": [],
   "source": [
    "from utils import *\n",
    "from sklearn.pipeline import Pipeline\n",
    "# from sklearn.ensemble import RandomForestClassifier\n",
    "from xgboost import XGBClassifier\n",
    "from sklearn.metrics import classification_report\n",
    "import pickle"
   ]
  },
  {
   "cell_type": "markdown",
   "metadata": {},
   "source": [
    "# Load Data"
   ]
  },
  {
   "cell_type": "code",
   "execution_count": 2,
   "metadata": {},
   "outputs": [
    {
     "name": "stderr",
     "output_type": "stream",
     "text": [
      "/Users/robchimel/Documents/School/MIDS/210_Capstone/MIDS210-FURever-Home-Forecast/load_Denver.py:51: UserWarning: Could not infer format, so each element will be parsed individually, falling back to `dateutil`. To ensure parsing is consistent and as-expected, please specify a format.\n",
      "  df['Outcome Date'] = pd.to_datetime(df['Outcome Date'], errors='coerce')\n",
      "/Users/robchimel/Documents/School/MIDS/210_Capstone/MIDS210-FURever-Home-Forecast/load_Sonoma.py:51: FutureWarning: A value is trying to be set on a copy of a DataFrame or Series through chained assignment using an inplace method.\n",
      "The behavior will change in pandas 3.0. This inplace method will never work because the intermediate object on which we are setting values always behaves as a copy.\n",
      "\n",
      "For example, when doing 'df[col].method(value, inplace=True)', try using 'df.method({col: value}, inplace=True)' or df[col] = df[col].method(value) instead, to perform the operation inplace on the original object.\n",
      "\n",
      "\n",
      "  df['Date Of Birth'].fillna('01/01/1900', inplace=True)\n",
      "/Users/robchimel/Documents/School/MIDS/210_Capstone/MIDS210-FURever-Home-Forecast/load_Denver.py:154: FutureWarning: A value is trying to be set on a copy of a DataFrame or Series through chained assignment using an inplace method.\n",
      "The behavior will change in pandas 3.0. This inplace method will never work because the intermediate object on which we are setting values always behaves as a copy.\n",
      "\n",
      "For example, when doing 'df[col].method(value, inplace=True)', try using 'df.method({col: value}, inplace=True)' or df[col] = df[col].method(value) instead, to perform the operation inplace on the original object.\n",
      "\n",
      "\n",
      "  df[col].fillna('Unknown', inplace=True)\n",
      "/Users/robchimel/Documents/School/MIDS/210_Capstone/MIDS210-FURever-Home-Forecast/load_Sonoma.py:156: FutureWarning: A value is trying to be set on a copy of a DataFrame or Series through chained assignment using an inplace method.\n",
      "The behavior will change in pandas 3.0. This inplace method will never work because the intermediate object on which we are setting values always behaves as a copy.\n",
      "\n",
      "For example, when doing 'df[col].method(value, inplace=True)', try using 'df.method({col: value}, inplace=True)' or df[col] = df[col].method(value) instead, to perform the operation inplace on the original object.\n",
      "\n",
      "\n",
      "  df[col].fillna('Unknown', inplace=True)\n"
     ]
    },
    {
     "name": "stdout",
     "output_type": "stream",
     "text": [
      "Intake Date is NOT A STRING\n",
      "Outcome Date is NOT A STRING\n",
      "replace null values in Name with 'Unknown'\n",
      "replace null values in Date_Of_Birth with 'Unknown'\n",
      "replace null values in Outcome_Type with 'Unknown'\n",
      "replace null values in Intake_Subtype with 'Unknown'\n",
      "replace null values in Outcome_Subtype with 'Unknown'\n",
      "replace null values in Outcome_Condition with 'Unknown'\n",
      "Date Of Birth is NOT A STRING\n",
      "Intake Date is NOT A STRING\n",
      "Outcome Date is NOT A STRING\n",
      "Days in Shelter is NOT A STRING\n",
      "Count is NOT A STRING\n",
      "replace null values in Name with 'Unknown'\n",
      "replace null values in Size with 'Unknown'\n",
      "replace null values in Outcome_Type with 'Unknown'\n",
      "replace null values in Outcome_Subtype with 'Unknown'\n",
      "replace null values in Outcome_Condition with 'Unknown'\n",
      "replace null values in Outcome_Jurisdiction with 'Unknown'\n",
      "replace null values in Outcome_Zip_Code with 'Unknown'\n",
      "replace null values in Location with 'Unknown'\n"
     ]
    },
    {
     "name": "stderr",
     "output_type": "stream",
     "text": [
      "/Users/robchimel/Documents/School/MIDS/210_Capstone/MIDS210-FURever-Home-Forecast/load_Austin.py:107: UserWarning: Could not infer format, so each element will be parsed individually, falling back to `dateutil`. To ensure parsing is consistent and as-expected, please specify a format.\n",
      "  df['Outcome Date'] = pd.to_datetime(df['DateTime'], errors='coerce')\n",
      "/Users/robchimel/Documents/School/MIDS/210_Capstone/MIDS210-FURever-Home-Forecast/load_Austin.py:134: FutureWarning: A value is trying to be set on a copy of a DataFrame or Series through chained assignment using an inplace method.\n",
      "The behavior will change in pandas 3.0. This inplace method will never work because the intermediate object on which we are setting values always behaves as a copy.\n",
      "\n",
      "For example, when doing 'df[col].method(value, inplace=True)', try using 'df.method({col: value}, inplace=True)' or df[col] = df[col].method(value) instead, to perform the operation inplace on the original object.\n",
      "\n",
      "\n",
      "  df['Date Of Birth'].fillna('01/01/1900', inplace=True)\n",
      "/Users/robchimel/Documents/School/MIDS/210_Capstone/MIDS210-FURever-Home-Forecast/load_Austin.py:134: SettingWithCopyWarning: \n",
      "A value is trying to be set on a copy of a slice from a DataFrame\n",
      "\n",
      "See the caveats in the documentation: https://pandas.pydata.org/pandas-docs/stable/user_guide/indexing.html#returning-a-view-versus-a-copy\n",
      "  df['Date Of Birth'].fillna('01/01/1900', inplace=True)\n"
     ]
    },
    {
     "name": "stdout",
     "output_type": "stream",
     "text": [
      "Date Of Birth is NOT A STRING\n",
      "Intake Date is NOT A STRING\n",
      "Outcome Date is NOT A STRING\n",
      "Days in Shelter is NOT A STRING\n",
      "replace null values in Name with 'Unknown'\n",
      "replace null values in Outcome_Subtype with 'Unknown'\n"
     ]
    },
    {
     "name": "stderr",
     "output_type": "stream",
     "text": [
      "/Users/robchimel/Documents/School/MIDS/210_Capstone/MIDS210-FURever-Home-Forecast/load_Austin.py:172: FutureWarning: A value is trying to be set on a copy of a DataFrame or Series through chained assignment using an inplace method.\n",
      "The behavior will change in pandas 3.0. This inplace method will never work because the intermediate object on which we are setting values always behaves as a copy.\n",
      "\n",
      "For example, when doing 'df[col].method(value, inplace=True)', try using 'df.method({col: value}, inplace=True)' or df[col] = df[col].method(value) instead, to perform the operation inplace on the original object.\n",
      "\n",
      "\n",
      "  df[col].fillna('Unknown', inplace=True)\n"
     ]
    },
    {
     "name": "stdout",
     "output_type": "stream",
     "text": [
      "replace null values in Size with 'Unknown'\n",
      "replace null values in Date_Of_Birth with 'Unknown'\n",
      "replace null values in Impound_Number with 'Unknown'\n",
      "replace null values in Kennel_Number with 'Unknown'\n",
      "replace null values in Animal_ID with 'Unknown'\n",
      "replace null values in Intake_Type with 'Unknown'\n",
      "replace null values in Intake_Subtype with 'Unknown'\n",
      "replace null values in Outcome_Condition with 'Unknown'\n",
      "replace null values in Intake_Jurisdiction with 'Unknown'\n",
      "replace null values in Outcome_Jurisdiction with 'Unknown'\n",
      "replace null values in Outcome_Zip_Code with 'Unknown'\n",
      "replace null values in Location with 'Unknown'\n",
      "replace null values in Multiple_Visit_Count with 'np.nan'\n",
      "replace null values in Age_inDays_at_Income with 'np.nan'\n",
      "replace null values in Age_Group with 'Unknown'\n",
      "replace null values in Is_Aggressive with 'np.nan'\n",
      "replace null values in Is_Mixed_Breed with 'np.nan'\n",
      "replace null values in Is_Multicolor with 'np.nan'\n",
      "replace null values in Birth_Year with 'np.nan'\n",
      "replace null values in Birth_Month with 'np.nan'\n",
      "replace null values in Birth_Day with 'np.nan'\n"
     ]
    },
    {
     "name": "stderr",
     "output_type": "stream",
     "text": [
      "/Users/robchimel/Documents/School/MIDS/210_Capstone/MIDS210-FURever-Home-Forecast/utils.py:75: FutureWarning: A value is trying to be set on a copy of a DataFrame or Series through chained assignment using an inplace method.\n",
      "The behavior will change in pandas 3.0. This inplace method will never work because the intermediate object on which we are setting values always behaves as a copy.\n",
      "\n",
      "For example, when doing 'df[col].method(value, inplace=True)', try using 'df.method({col: value}, inplace=True)' or df[col] = df[col].method(value) instead, to perform the operation inplace on the original object.\n",
      "\n",
      "\n",
      "  df[col].fillna('Unknown', inplace=True)\n",
      "/Users/robchimel/Documents/School/MIDS/210_Capstone/MIDS210-FURever-Home-Forecast/utils.py:75: FutureWarning: Setting an item of incompatible dtype is deprecated and will raise an error in a future version of pandas. Value 'Unknown' has dtype incompatible with datetime64[ns], please explicitly cast to a compatible dtype first.\n",
      "  df[col].fillna('Unknown', inplace=True)\n",
      "/Users/robchimel/Documents/School/MIDS/210_Capstone/MIDS210-FURever-Home-Forecast/utils.py:78: FutureWarning: A value is trying to be set on a copy of a DataFrame or Series through chained assignment using an inplace method.\n",
      "The behavior will change in pandas 3.0. This inplace method will never work because the intermediate object on which we are setting values always behaves as a copy.\n",
      "\n",
      "For example, when doing 'df[col].method(value, inplace=True)', try using 'df.method({col: value}, inplace=True)' or df[col] = df[col].method(value) instead, to perform the operation inplace on the original object.\n",
      "\n",
      "\n",
      "  df[col].fillna(int(-1), inplace=True)\n",
      "/Users/robchimel/opt/anaconda3/envs/capstone/lib/python3.12/site-packages/sklearn/cluster/_kmeans.py:1412: FutureWarning: The default value of `n_init` will change from 10 to 'auto' in 1.4. Set the value of `n_init` explicitly to suppress the warning\n",
      "  super()._check_params_vs_input(X, default_n_init=10)\n",
      "/Users/robchimel/opt/anaconda3/envs/capstone/lib/python3.12/site-packages/sklearn/cluster/_kmeans.py:1412: FutureWarning: The default value of `n_init` will change from 10 to 'auto' in 1.4. Set the value of `n_init` explicitly to suppress the warning\n",
      "  super()._check_params_vs_input(X, default_n_init=10)\n",
      "/Users/robchimel/opt/anaconda3/envs/capstone/lib/python3.12/site-packages/sklearn/cluster/_kmeans.py:1412: FutureWarning: The default value of `n_init` will change from 10 to 'auto' in 1.4. Set the value of `n_init` explicitly to suppress the warning\n",
      "  super()._check_params_vs_input(X, default_n_init=10)\n"
     ]
    }
   ],
   "source": [
    "params = {\n",
    "        'na_data': 'fill',\n",
    "        'drop_outlier_days': 300,\n",
    "        'embed':True,\n",
    "        'buckets':[-1,3,14,30,100,99999999],\n",
    "        'sample_dict':\n",
    "            {\n",
    "            'stratify_col':'Type',\n",
    "            'train_size':0.6, 'validate_size':0.2, 'test_size':0.2\n",
    "            }\n",
    "        }\n",
    "train_df, validate_df, test_df = load_df(params)\n",
    "train_df = train_df[train_df.dataset=='Sonoma']\n",
    "validate_df = validate_df[validate_df.dataset=='Sonoma']\n",
    "test_df = test_df[test_df.dataset=='Sonoma']"
   ]
  },
  {
   "cell_type": "markdown",
   "metadata": {},
   "source": [
    "# Create Preprocessor"
   ]
  },
  {
   "cell_type": "code",
   "execution_count": 3,
   "metadata": {},
   "outputs": [],
   "source": [
    "preprocessor, X_train, y_train, X_test, y_test = sklearn_pipeline(train_df, validate_df)"
   ]
  },
  {
   "cell_type": "markdown",
   "metadata": {},
   "source": [
    "# Create Pipeline"
   ]
  },
  {
   "cell_type": "code",
   "execution_count": 4,
   "metadata": {},
   "outputs": [],
   "source": [
    "# Create the pipeline with the preprocessor and the RandomForestClassifier\n",
    "XGBpipeline = Pipeline(steps=[\n",
    "    ('preprocessor', preprocessor),\n",
    "    ('classifier', XGBClassifier(random_state=42))\n",
    "])"
   ]
  },
  {
   "cell_type": "markdown",
   "metadata": {},
   "source": [
    "# Train Model"
   ]
  },
  {
   "cell_type": "code",
   "execution_count": 5,
   "metadata": {},
   "outputs": [
    {
     "name": "stdout",
     "output_type": "stream",
     "text": [
      "              precision    recall  f1-score   support\n",
      "\n",
      "           0       0.74      0.87      0.80      1894\n",
      "           1       0.54      0.53      0.53      1301\n",
      "           2       0.47      0.36      0.41       944\n",
      "           3       0.58      0.58      0.58       884\n",
      "           4       0.48      0.13      0.21        97\n",
      "\n",
      "    accuracy                           0.62      5120\n",
      "   macro avg       0.56      0.49      0.51      5120\n",
      "weighted avg       0.61      0.62      0.61      5120\n",
      "\n"
     ]
    }
   ],
   "source": [
    "# Train the model\n",
    "XGBpipeline.fit(X_train, y_train)\n",
    "# Predict on the test data\n",
    "y_pred = XGBpipeline.predict(X_test)\n",
    "# Evaluate the model\n",
    "print(classification_report(y_test, y_pred))"
   ]
  },
  {
   "cell_type": "markdown",
   "metadata": {},
   "source": [
    "### Save Model Pipeline"
   ]
  },
  {
   "cell_type": "code",
   "execution_count": 6,
   "metadata": {},
   "outputs": [],
   "source": [
    "with open('XGBpipeline.pkl', 'wb') as file:\n",
    "    pickle.dump(XGBpipeline, file)"
   ]
  },
  {
   "cell_type": "markdown",
   "metadata": {},
   "source": [
    "### Load Model Pipeline"
   ]
  },
  {
   "cell_type": "code",
   "execution_count": 7,
   "metadata": {},
   "outputs": [],
   "source": [
    "with open('XGBpipeline.pkl', 'rb') as file:\n",
    "    test_pipeline = pickle.load(file)"
   ]
  },
  {
   "cell_type": "code",
   "execution_count": 8,
   "metadata": {},
   "outputs": [
    {
     "name": "stdout",
     "output_type": "stream",
     "text": [
      "              precision    recall  f1-score   support\n",
      "\n",
      "           0       0.74      0.87      0.80      1894\n",
      "           1       0.54      0.53      0.53      1301\n",
      "           2       0.47      0.36      0.41       944\n",
      "           3       0.58      0.58      0.58       884\n",
      "           4       0.48      0.13      0.21        97\n",
      "\n",
      "    accuracy                           0.62      5120\n",
      "   macro avg       0.56      0.49      0.51      5120\n",
      "weighted avg       0.61      0.62      0.61      5120\n",
      "\n"
     ]
    }
   ],
   "source": [
    "# Predict on the test data\n",
    "y_pred = test_pipeline.predict(X_test)\n",
    "# Evaluate the model\n",
    "print(classification_report(y_test, y_pred))"
   ]
  },
  {
   "cell_type": "markdown",
   "metadata": {},
   "source": [
    "# TEST Model with API"
   ]
  },
  {
   "cell_type": "code",
   "execution_count": 9,
   "metadata": {},
   "outputs": [
    {
     "name": "stderr",
     "output_type": "stream",
     "text": [
      "WARNING:root:Requests made without an app_token will be subject to strict throttling limits.\n",
      "/Users/robchimel/Documents/School/MIDS/210_Capstone/MIDS210-FURever-Home-Forecast/load_Sonoma.py:51: FutureWarning: A value is trying to be set on a copy of a DataFrame or Series through chained assignment using an inplace method.\n",
      "The behavior will change in pandas 3.0. This inplace method will never work because the intermediate object on which we are setting values always behaves as a copy.\n",
      "\n",
      "For example, when doing 'df[col].method(value, inplace=True)', try using 'df.method({col: value}, inplace=True)' or df[col] = df[col].method(value) instead, to perform the operation inplace on the original object.\n",
      "\n",
      "\n",
      "  df['Date Of Birth'].fillna('01/01/1900', inplace=True)\n",
      "/Users/robchimel/Documents/School/MIDS/210_Capstone/MIDS210-FURever-Home-Forecast/load_Sonoma.py:148: FutureWarning: Setting an item of incompatible dtype is deprecated and will raise an error in a future version of pandas. Value 'Unknown' has dtype incompatible with datetime64[ns], please explicitly cast to a compatible dtype first.\n",
      "  df.loc[df.Intake_Type=='OS APPT'] = 'Unknown'\n",
      "/Users/robchimel/Documents/School/MIDS/210_Capstone/MIDS210-FURever-Home-Forecast/load_Sonoma.py:148: FutureWarning: Setting an item of incompatible dtype is deprecated and will raise an error in a future version of pandas. Value 'Unknown' has dtype incompatible with datetime64[ns], please explicitly cast to a compatible dtype first.\n",
      "  df.loc[df.Intake_Type=='OS APPT'] = 'Unknown'\n",
      "/Users/robchimel/Documents/School/MIDS/210_Capstone/MIDS210-FURever-Home-Forecast/load_Sonoma.py:148: FutureWarning: Setting an item of incompatible dtype is deprecated and will raise an error in a future version of pandas. Value 'Unknown' has dtype incompatible with datetime64[ns], please explicitly cast to a compatible dtype first.\n",
      "  df.loc[df.Intake_Type=='OS APPT'] = 'Unknown'\n",
      "/Users/robchimel/Documents/School/MIDS/210_Capstone/MIDS210-FURever-Home-Forecast/load_Sonoma.py:148: FutureWarning: Setting an item of incompatible dtype is deprecated and will raise an error in a future version of pandas. Value 'Unknown' has dtype incompatible with float64, please explicitly cast to a compatible dtype first.\n",
      "  df.loc[df.Intake_Type=='OS APPT'] = 'Unknown'\n",
      "/Users/robchimel/Documents/School/MIDS/210_Capstone/MIDS210-FURever-Home-Forecast/load_Sonoma.py:156: FutureWarning: A value is trying to be set on a copy of a DataFrame or Series through chained assignment using an inplace method.\n",
      "The behavior will change in pandas 3.0. This inplace method will never work because the intermediate object on which we are setting values always behaves as a copy.\n",
      "\n",
      "For example, when doing 'df[col].method(value, inplace=True)', try using 'df.method({col: value}, inplace=True)' or df[col] = df[col].method(value) instead, to perform the operation inplace on the original object.\n",
      "\n",
      "\n",
      "  df[col].fillna('Unknown', inplace=True)\n",
      "/Users/robchimel/Documents/School/MIDS/210_Capstone/MIDS210-FURever-Home-Forecast/utils.py:75: FutureWarning: A value is trying to be set on a copy of a DataFrame or Series through chained assignment using an inplace method.\n",
      "The behavior will change in pandas 3.0. This inplace method will never work because the intermediate object on which we are setting values always behaves as a copy.\n",
      "\n",
      "For example, when doing 'df[col].method(value, inplace=True)', try using 'df.method({col: value}, inplace=True)' or df[col] = df[col].method(value) instead, to perform the operation inplace on the original object.\n",
      "\n",
      "\n",
      "  df[col].fillna('Unknown', inplace=True)\n"
     ]
    },
    {
     "name": "stdout",
     "output_type": "stream",
     "text": [
      "Intake Date is NOT A STRING\n",
      "Outcome Date is NOT A STRING\n",
      "Date Of Birth is NOT A STRING\n",
      "replace null values in Outcome_Date with 'Unknown'\n",
      "replace null values in Outcome_Type with 'Unknown'\n",
      "replace null values in Outcome_Subtype with 'Unknown'\n",
      "replace null values in Outcome_Condition with 'Unknown'\n",
      "replace null values in Name with 'Unknown'\n",
      "replace null values in Outcome_Jurisdiction with 'Unknown'\n",
      "replace null values in Outcome_Zip_Code with 'Unknown'\n",
      "replace null values in Location with 'Unknown'\n",
      "replace null values in Age_Group with 'Unknown'\n"
     ]
    },
    {
     "name": "stderr",
     "output_type": "stream",
     "text": [
      "/Users/robchimel/opt/anaconda3/envs/capstone/lib/python3.12/site-packages/sklearn/cluster/_kmeans.py:1412: FutureWarning: The default value of `n_init` will change from 10 to 'auto' in 1.4. Set the value of `n_init` explicitly to suppress the warning\n",
      "  super()._check_params_vs_input(X, default_n_init=10)\n",
      "/Users/robchimel/opt/anaconda3/envs/capstone/lib/python3.12/site-packages/sklearn/cluster/_kmeans.py:1412: FutureWarning: The default value of `n_init` will change from 10 to 'auto' in 1.4. Set the value of `n_init` explicitly to suppress the warning\n",
      "  super()._check_params_vs_input(X, default_n_init=10)\n",
      "/Users/robchimel/opt/anaconda3/envs/capstone/lib/python3.12/site-packages/sklearn/cluster/_kmeans.py:1412: FutureWarning: The default value of `n_init` will change from 10 to 'auto' in 1.4. Set the value of `n_init` explicitly to suppress the warning\n",
      "  super()._check_params_vs_input(X, default_n_init=10)\n"
     ]
    }
   ],
   "source": [
    "from datetime import datetime, timedelta\n",
    "from sodapy import Socrata\n",
    "client = Socrata(\"data.sonomacounty.ca.gov\", None)\n",
    "\n",
    "end_date_str = datetime.now().strftime(\"%Y-%m-%d\")\n",
    "start_date = datetime.now() - timedelta(days = 50)\n",
    "start_date_str = start_date.strftime(\"%Y-%m-%d\")\n",
    "results = client.get(\n",
    "    \"924a-vesw\",\n",
    "    where=f\"intake_date between '{start_date_str}' and '{end_date_str}'\",\n",
    ")\n",
    "results_df = pd.DataFrame.from_records(results)\n",
    "params = {\n",
    "    'na_data': 'fill',\n",
    "    'drop_outlier_days': False,\n",
    "    'embed':True,\n",
    "    'buckets':[-1,3,14,30,100,99999999],\n",
    "    'sample_dict':\n",
    "        {\n",
    "        'stratify_col':'Type',\n",
    "        'train_size':0.6, 'validate_size':0.2, 'test_size':0.2\n",
    "        }\n",
    "    }\n",
    "results_df = load_df(params, data=results_df, split_data=False)"
   ]
  },
  {
   "cell_type": "code",
   "execution_count": 11,
   "metadata": {},
   "outputs": [
    {
     "data": {
      "text/plain": [
       "array([0, 3, 0, 1, 2, 3, 0, 0, 0, 3, 0, 0, 0, 0, 0, 0, 0, 0, 0, 0, 0, 0,\n",
       "       0, 3, 0, 0, 0, 2, 0, 0, 0, 0, 0, 0, 3, 3, 0, 2, 0, 2, 3, 2, 0, 0,\n",
       "       0, 0, 2, 0, 0, 0, 1, 1, 1, 1, 0, 3, 1, 3, 3, 1, 0, 0, 0, 0, 0, 1,\n",
       "       0, 1, 2, 0, 3, 2, 3, 1, 3, 3, 0, 0, 3, 0, 0, 0, 2, 3, 3, 3, 3, 1,\n",
       "       0, 2, 0, 3, 0, 1, 1, 1, 0, 1, 1, 3, 0, 0, 0, 0, 0, 3, 3, 0, 0, 0,\n",
       "       3, 0, 2, 1, 1, 0, 3, 2, 0, 0, 1, 1, 1, 1, 1, 1, 1, 0, 0, 0, 2, 0,\n",
       "       0, 1, 0, 0, 0, 0, 1, 0, 3, 0, 0, 0, 0, 0, 0, 0, 0, 0, 0, 0, 1, 1,\n",
       "       1, 2, 3, 0, 2, 1, 3, 0, 1, 3, 0, 0, 2, 0, 0, 0, 0, 2, 2, 0, 0, 1,\n",
       "       1, 1, 1, 1, 1, 0, 3, 1, 2, 0, 1, 0, 0, 0, 0, 0, 0, 0, 0, 0, 0, 0,\n",
       "       0, 2, 2, 2, 1, 0, 1, 1, 2, 2, 1, 1, 2, 0, 0, 0, 3, 3, 0, 0, 0, 0,\n",
       "       3, 3, 2, 2, 1, 1, 1, 1, 1, 3, 0, 0, 2, 0, 3, 0, 0, 0, 0, 0, 3, 0,\n",
       "       1, 0, 0, 3, 0, 1, 0, 0, 0, 0, 0, 0, 0, 1, 2, 2, 0, 2, 2, 2, 2, 0,\n",
       "       0, 0, 0, 0, 0, 0, 0, 0, 0, 3, 3, 0, 1, 3, 0, 0, 1, 0, 0, 0, 0, 0,\n",
       "       0, 1, 0, 0, 1, 3, 3, 0, 1, 1])"
      ]
     },
     "execution_count": 11,
     "metadata": {},
     "output_type": "execute_result"
    }
   ],
   "source": [
    "# Predict on the test data\n",
    "y_pred = test_pipeline.predict(results_df)\n",
    "y_pred"
   ]
  }
 ],
 "metadata": {
  "kernelspec": {
   "display_name": "cv_281_3",
   "language": "python",
   "name": "python3"
  },
  "language_info": {
   "codemirror_mode": {
    "name": "ipython",
    "version": 3
   },
   "file_extension": ".py",
   "mimetype": "text/x-python",
   "name": "python",
   "nbconvert_exporter": "python",
   "pygments_lexer": "ipython3",
   "version": "3.8.18"
  }
 },
 "nbformat": 4,
 "nbformat_minor": 2
}
