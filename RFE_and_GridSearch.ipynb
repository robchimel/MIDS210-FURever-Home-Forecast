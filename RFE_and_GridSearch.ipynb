{
  "cells": [
    {
      "cell_type": "code",
      "source": [
        "from google.colab import drive\n",
        "drive.mount('/content/drive')\n",
        "\n",
        "%cd drive/My Drive/Colab Notebooks/capstone"
      ],
      "metadata": {
        "colab": {
          "base_uri": "https://localhost:8080/"
        },
        "id": "jlAlqIHrKoIU",
        "outputId": "760bf43e-837c-418f-a201-13dde9c65cd0"
      },
      "execution_count": 1,
      "outputs": [
        {
          "output_type": "stream",
          "name": "stdout",
          "text": [
            "Mounted at /content/drive\n",
            "/content/drive/My Drive/Colab Notebooks/capstone\n"
          ]
        }
      ]
    },
    {
      "cell_type": "code",
      "source": [
        "!pip install pytorch_tabnet"
      ],
      "metadata": {
        "colab": {
          "base_uri": "https://localhost:8080/"
        },
        "id": "tIe35vN_LAuG",
        "outputId": "72f0a20e-e9ef-4219-8b05-c14cefc26eb7"
      },
      "execution_count": 2,
      "outputs": [
        {
          "output_type": "stream",
          "name": "stdout",
          "text": [
            "Collecting pytorch_tabnet\n",
            "  Downloading pytorch_tabnet-4.1.0-py3-none-any.whl (44 kB)\n",
            "\u001b[2K     \u001b[90m━━━━━━━━━━━━━━━━━━━━━━━━━━━━━━━━━━━━━━━━\u001b[0m \u001b[32m44.5/44.5 kB\u001b[0m \u001b[31m384.1 kB/s\u001b[0m eta \u001b[36m0:00:00\u001b[0m\n",
            "\u001b[?25hRequirement already satisfied: numpy>=1.17 in /usr/local/lib/python3.10/dist-packages (from pytorch_tabnet) (1.25.2)\n",
            "Requirement already satisfied: scikit_learn>0.21 in /usr/local/lib/python3.10/dist-packages (from pytorch_tabnet) (1.2.2)\n",
            "Requirement already satisfied: scipy>1.4 in /usr/local/lib/python3.10/dist-packages (from pytorch_tabnet) (1.11.4)\n",
            "Requirement already satisfied: torch>=1.3 in /usr/local/lib/python3.10/dist-packages (from pytorch_tabnet) (2.3.0+cu121)\n",
            "Requirement already satisfied: tqdm>=4.36 in /usr/local/lib/python3.10/dist-packages (from pytorch_tabnet) (4.66.4)\n",
            "Requirement already satisfied: joblib>=1.1.1 in /usr/local/lib/python3.10/dist-packages (from scikit_learn>0.21->pytorch_tabnet) (1.4.2)\n",
            "Requirement already satisfied: threadpoolctl>=2.0.0 in /usr/local/lib/python3.10/dist-packages (from scikit_learn>0.21->pytorch_tabnet) (3.5.0)\n",
            "Requirement already satisfied: filelock in /usr/local/lib/python3.10/dist-packages (from torch>=1.3->pytorch_tabnet) (3.15.3)\n",
            "Requirement already satisfied: typing-extensions>=4.8.0 in /usr/local/lib/python3.10/dist-packages (from torch>=1.3->pytorch_tabnet) (4.12.2)\n",
            "Requirement already satisfied: sympy in /usr/local/lib/python3.10/dist-packages (from torch>=1.3->pytorch_tabnet) (1.12.1)\n",
            "Requirement already satisfied: networkx in /usr/local/lib/python3.10/dist-packages (from torch>=1.3->pytorch_tabnet) (3.3)\n",
            "Requirement already satisfied: jinja2 in /usr/local/lib/python3.10/dist-packages (from torch>=1.3->pytorch_tabnet) (3.1.4)\n",
            "Requirement already satisfied: fsspec in /usr/local/lib/python3.10/dist-packages (from torch>=1.3->pytorch_tabnet) (2023.6.0)\n",
            "Collecting nvidia-cuda-nvrtc-cu12==12.1.105 (from torch>=1.3->pytorch_tabnet)\n",
            "  Using cached nvidia_cuda_nvrtc_cu12-12.1.105-py3-none-manylinux1_x86_64.whl (23.7 MB)\n",
            "Collecting nvidia-cuda-runtime-cu12==12.1.105 (from torch>=1.3->pytorch_tabnet)\n",
            "  Using cached nvidia_cuda_runtime_cu12-12.1.105-py3-none-manylinux1_x86_64.whl (823 kB)\n",
            "Collecting nvidia-cuda-cupti-cu12==12.1.105 (from torch>=1.3->pytorch_tabnet)\n",
            "  Using cached nvidia_cuda_cupti_cu12-12.1.105-py3-none-manylinux1_x86_64.whl (14.1 MB)\n",
            "Collecting nvidia-cudnn-cu12==8.9.2.26 (from torch>=1.3->pytorch_tabnet)\n",
            "  Using cached nvidia_cudnn_cu12-8.9.2.26-py3-none-manylinux1_x86_64.whl (731.7 MB)\n",
            "Collecting nvidia-cublas-cu12==12.1.3.1 (from torch>=1.3->pytorch_tabnet)\n",
            "  Using cached nvidia_cublas_cu12-12.1.3.1-py3-none-manylinux1_x86_64.whl (410.6 MB)\n",
            "Collecting nvidia-cufft-cu12==11.0.2.54 (from torch>=1.3->pytorch_tabnet)\n",
            "  Using cached nvidia_cufft_cu12-11.0.2.54-py3-none-manylinux1_x86_64.whl (121.6 MB)\n",
            "Collecting nvidia-curand-cu12==10.3.2.106 (from torch>=1.3->pytorch_tabnet)\n",
            "  Using cached nvidia_curand_cu12-10.3.2.106-py3-none-manylinux1_x86_64.whl (56.5 MB)\n",
            "Collecting nvidia-cusolver-cu12==11.4.5.107 (from torch>=1.3->pytorch_tabnet)\n",
            "  Using cached nvidia_cusolver_cu12-11.4.5.107-py3-none-manylinux1_x86_64.whl (124.2 MB)\n",
            "Collecting nvidia-cusparse-cu12==12.1.0.106 (from torch>=1.3->pytorch_tabnet)\n",
            "  Using cached nvidia_cusparse_cu12-12.1.0.106-py3-none-manylinux1_x86_64.whl (196.0 MB)\n",
            "Collecting nvidia-nccl-cu12==2.20.5 (from torch>=1.3->pytorch_tabnet)\n",
            "  Using cached nvidia_nccl_cu12-2.20.5-py3-none-manylinux2014_x86_64.whl (176.2 MB)\n",
            "Collecting nvidia-nvtx-cu12==12.1.105 (from torch>=1.3->pytorch_tabnet)\n",
            "  Using cached nvidia_nvtx_cu12-12.1.105-py3-none-manylinux1_x86_64.whl (99 kB)\n",
            "Requirement already satisfied: triton==2.3.0 in /usr/local/lib/python3.10/dist-packages (from torch>=1.3->pytorch_tabnet) (2.3.0)\n",
            "Collecting nvidia-nvjitlink-cu12 (from nvidia-cusolver-cu12==11.4.5.107->torch>=1.3->pytorch_tabnet)\n",
            "  Downloading nvidia_nvjitlink_cu12-12.5.40-py3-none-manylinux2014_x86_64.whl (21.3 MB)\n",
            "\u001b[2K     \u001b[90m━━━━━━━━━━━━━━━━━━━━━━━━━━━━━━━━━━━━━━━━\u001b[0m \u001b[32m21.3/21.3 MB\u001b[0m \u001b[31m28.6 MB/s\u001b[0m eta \u001b[36m0:00:00\u001b[0m\n",
            "\u001b[?25hRequirement already satisfied: MarkupSafe>=2.0 in /usr/local/lib/python3.10/dist-packages (from jinja2->torch>=1.3->pytorch_tabnet) (2.1.5)\n",
            "Requirement already satisfied: mpmath<1.4.0,>=1.1.0 in /usr/local/lib/python3.10/dist-packages (from sympy->torch>=1.3->pytorch_tabnet) (1.3.0)\n",
            "Installing collected packages: nvidia-nvtx-cu12, nvidia-nvjitlink-cu12, nvidia-nccl-cu12, nvidia-curand-cu12, nvidia-cufft-cu12, nvidia-cuda-runtime-cu12, nvidia-cuda-nvrtc-cu12, nvidia-cuda-cupti-cu12, nvidia-cublas-cu12, nvidia-cusparse-cu12, nvidia-cudnn-cu12, nvidia-cusolver-cu12, pytorch_tabnet\n",
            "Successfully installed nvidia-cublas-cu12-12.1.3.1 nvidia-cuda-cupti-cu12-12.1.105 nvidia-cuda-nvrtc-cu12-12.1.105 nvidia-cuda-runtime-cu12-12.1.105 nvidia-cudnn-cu12-8.9.2.26 nvidia-cufft-cu12-11.0.2.54 nvidia-curand-cu12-10.3.2.106 nvidia-cusolver-cu12-11.4.5.107 nvidia-cusparse-cu12-12.1.0.106 nvidia-nccl-cu12-2.20.5 nvidia-nvjitlink-cu12-12.5.40 nvidia-nvtx-cu12-12.1.105 pytorch_tabnet-4.1.0\n"
          ]
        }
      ]
    },
    {
      "cell_type": "code",
      "execution_count": 3,
      "metadata": {
        "id": "4dUMgExXKmC_"
      },
      "outputs": [],
      "source": [
        "import pandas as pd\n",
        "import matplotlib.pyplot as plt\n",
        "import numpy as np\n",
        "from utils import *\n",
        "from pytorch_tabnet.tab_model import TabNetClassifier"
      ]
    },
    {
      "cell_type": "code",
      "execution_count": 22,
      "metadata": {
        "colab": {
          "base_uri": "https://localhost:8080/"
        },
        "id": "c1KfISxwKmDF",
        "outputId": "7db063ee-64e7-4996-98d9-ac815dfd7862"
      },
      "outputs": [
        {
          "output_type": "stream",
          "name": "stdout",
          "text": [
            "Date Of Birth is NOT A STRING\n",
            "Intake Date is NOT A STRING\n",
            "Outcome Date is NOT A STRING\n",
            "Days in Shelter is NOT A STRING\n",
            "Count is NOT A STRING\n",
            "replace null values in Name with 'Unknown'\n",
            "replace null values in Size with 'Unknown'\n",
            "replace null values in Outcome_Type with 'Unknown'\n",
            "replace null values in Outcome_Subtype with 'Unknown'\n",
            "replace null values in Outcome_Condition with 'Unknown'\n",
            "replace null values in Outcome_Jurisdiction with 'Unknown'\n",
            "replace null values in Outcome_Zip_Code with 'Unknown'\n",
            "replace null values in Location with 'Unknown'\n"
          ]
        },
        {
          "output_type": "stream",
          "name": "stderr",
          "text": [
            "/usr/local/lib/python3.10/dist-packages/sklearn/cluster/_kmeans.py:870: FutureWarning: The default value of `n_init` will change from 10 to 'auto' in 1.4. Set the value of `n_init` explicitly to suppress the warning\n",
            "  warnings.warn(\n",
            "/usr/local/lib/python3.10/dist-packages/sklearn/cluster/_kmeans.py:870: FutureWarning: The default value of `n_init` will change from 10 to 'auto' in 1.4. Set the value of `n_init` explicitly to suppress the warning\n",
            "  warnings.warn(\n"
          ]
        }
      ],
      "source": [
        "'''\n",
        "params options\n",
        "\n",
        "na_data will fill missing data with 'unknown', delete missing data or do nothing\n",
        "input options are...\n",
        "    * 'fill'\n",
        "    * 'drop'\n",
        "    * False\n",
        "\n",
        "drop_outlier_days removes pets who have a lenght of stay exceeding the value YOU enter\n",
        "input options are...\n",
        "    * False\n",
        "    * or any integer\n",
        "\n",
        "sample_dict controls stratified sampling\n",
        "    * stratify_col: a column name used for stratified sampling... spelling and caps must be exact\n",
        "    * train_size: a fraction of data you want for the training data\n",
        "    * validate_size: a fraction of data you want for the validate data\n",
        "    * test_size: a fraction of data you want for the test data\n",
        "'''\n",
        "\n",
        "params = {\n",
        "        'na_data': 'fill',\n",
        "        'drop_outlier_days': 350,\n",
        "        'embed':True,\n",
        "        'num_buckets':5,\n",
        "        'sample_dict':\n",
        "            {\n",
        "            'stratify_col':'Type',\n",
        "            'train_size':0.6, 'validate_size':0.2, 'test_size':0.2\n",
        "            }\n",
        "        }\n",
        "\n",
        "\n",
        "train_df, validate_df, test_df = load_df(params)\n",
        "df = pd.concat([train_df, validate_df, test_df], ignore_index=True) # do this if you want to look at all the data still"
      ]
    },
    {
      "cell_type": "code",
      "execution_count": 23,
      "metadata": {
        "colab": {
          "base_uri": "https://localhost:8080/"
        },
        "id": "AYrOpSqXKmDM",
        "outputId": "94350b77-13ba-4a69-e5be-81d20fe181b5"
      },
      "outputs": [
        {
          "output_type": "execute_result",
          "data": {
            "text/plain": [
              "Index(['Name', 'Type', 'Breed', 'Color', 'Sex', 'Size', 'Date_Of_Birth',\n",
              "       'Impound_Number', 'Kennel_Number', 'Animal_ID', 'Intake_Date',\n",
              "       'Outcome_Date', 'Days_in_Shelter', 'Intake_Type', 'Intake_Subtype',\n",
              "       'Outcome_Type', 'Outcome_Subtype', 'Intake_Condition',\n",
              "       'Outcome_Condition', 'Intake_Jurisdiction', 'Outcome_Jurisdiction',\n",
              "       'Outcome_Zip_Code', 'Location', 'Multiple_Visit_Count',\n",
              "       'Age_inDays_at_Outcome', 'Age_Group', 'Is_Aggressive', 'Has_Name',\n",
              "       'Is_Fixed', 'Is_Mixed_Breed', 'Is_Multicolor', 'Color_Embedding',\n",
              "       'Color_Embedding_Cluster', 'Breed_Embedding', 'Breed_Embedding_Cluster',\n",
              "       'Days_in_Shelter_Label'],\n",
              "      dtype='object')"
            ]
          },
          "metadata": {},
          "execution_count": 23
        }
      ],
      "source": [
        "df.columns"
      ]
    },
    {
      "cell_type": "code",
      "execution_count": 24,
      "metadata": {
        "colab": {
          "base_uri": "https://localhost:8080/"
        },
        "id": "A98doK5ZKmDO",
        "outputId": "1101aa6a-8456-43d7-eaa5-243ee928fa2a"
      },
      "outputs": [
        {
          "output_type": "stream",
          "name": "stdout",
          "text": [
            "<class 'pandas.core.frame.DataFrame'>\n",
            "RangeIndex: 25252 entries, 0 to 25251\n",
            "Data columns (total 36 columns):\n",
            " #   Column                   Non-Null Count  Dtype         \n",
            "---  ------                   --------------  -----         \n",
            " 0   Name                     25252 non-null  object        \n",
            " 1   Type                     25252 non-null  object        \n",
            " 2   Breed                    25252 non-null  object        \n",
            " 3   Color                    25252 non-null  object        \n",
            " 4   Sex                      25252 non-null  object        \n",
            " 5   Size                     25252 non-null  object        \n",
            " 6   Date_Of_Birth            25252 non-null  datetime64[ns]\n",
            " 7   Impound_Number           25252 non-null  object        \n",
            " 8   Kennel_Number            25252 non-null  object        \n",
            " 9   Animal_ID                25252 non-null  object        \n",
            " 10  Intake_Date              25252 non-null  datetime64[ns]\n",
            " 11  Outcome_Date             25252 non-null  datetime64[ns]\n",
            " 12  Days_in_Shelter          25252 non-null  int64         \n",
            " 13  Intake_Type              25252 non-null  object        \n",
            " 14  Intake_Subtype           25252 non-null  object        \n",
            " 15  Outcome_Type             25252 non-null  object        \n",
            " 16  Outcome_Subtype          25252 non-null  object        \n",
            " 17  Intake_Condition         25252 non-null  object        \n",
            " 18  Outcome_Condition        25252 non-null  object        \n",
            " 19  Intake_Jurisdiction      25252 non-null  object        \n",
            " 20  Outcome_Jurisdiction     25252 non-null  object        \n",
            " 21  Outcome_Zip_Code         25252 non-null  object        \n",
            " 22  Location                 25252 non-null  object        \n",
            " 23  Multiple_Visit_Count     25252 non-null  int64         \n",
            " 24  Age_inDays_at_Outcome    25252 non-null  int64         \n",
            " 25  Age_Group                25204 non-null  category      \n",
            " 26  Is_Aggressive            25252 non-null  int64         \n",
            " 27  Has_Name                 25252 non-null  int64         \n",
            " 28  Is_Fixed                 25252 non-null  int64         \n",
            " 29  Is_Mixed_Breed           25252 non-null  int64         \n",
            " 30  Is_Multicolor            25252 non-null  int64         \n",
            " 31  Color_Embedding          25252 non-null  object        \n",
            " 32  Color_Embedding_Cluster  25252 non-null  int32         \n",
            " 33  Breed_Embedding          25252 non-null  object        \n",
            " 34  Breed_Embedding_Cluster  25252 non-null  int32         \n",
            " 35  Days_in_Shelter_Label    25252 non-null  category      \n",
            "dtypes: category(2), datetime64[ns](3), int32(2), int64(8), object(21)\n",
            "memory usage: 6.4+ MB\n"
          ]
        }
      ],
      "source": [
        "df.info()"
      ]
    },
    {
      "cell_type": "code",
      "execution_count": 25,
      "metadata": {
        "colab": {
          "base_uri": "https://localhost:8080/",
          "height": 424
        },
        "id": "YMNdsEopKmDP",
        "outputId": "f5e64118-1d54-4d6a-ee3d-2d64869002ce"
      },
      "outputs": [
        {
          "output_type": "execute_result",
          "data": {
            "text/plain": [
              "                       Date_Of_Birth                    Intake_Date  \\\n",
              "count                          25252                          25252   \n",
              "mean   1991-09-03 00:25:56.787581056  2018-08-17 12:42:32.447330560   \n",
              "min              1900-01-01 00:00:00            2013-08-17 00:00:00   \n",
              "25%              2006-03-30 12:00:00            2016-02-05 00:00:00   \n",
              "50%              2014-03-12 00:00:00            2018-04-14 00:00:00   \n",
              "75%              2017-08-19 00:00:00            2021-02-08 00:00:00   \n",
              "max              2024-05-12 00:00:00            2024-05-15 00:00:00   \n",
              "std                              NaN                            NaN   \n",
              "\n",
              "                        Outcome_Date  Days_in_Shelter  Multiple_Visit_Count  \\\n",
              "count                          25252     25252.000000          25252.000000   \n",
              "mean   2018-09-04 21:07:02.556628992        18.350348              1.334865   \n",
              "min              2014-01-01 00:00:00         0.000000              1.000000   \n",
              "25%              2016-02-23 00:00:00         1.000000              1.000000   \n",
              "50%              2018-04-28 00:00:00         9.000000              1.000000   \n",
              "75%              2021-02-25 00:00:00        24.000000              1.000000   \n",
              "max              2024-05-16 00:00:00       338.000000             19.000000   \n",
              "std                              NaN        28.865400              1.036737   \n",
              "\n",
              "       Age_inDays_at_Outcome  Is_Aggressive      Has_Name      Is_Fixed  \\\n",
              "count           25252.000000   25252.000000  25252.000000  25252.000000   \n",
              "mean             9863.861872       0.049303      0.789205      0.633613   \n",
              "min             -1336.000000       0.000000      0.000000      0.000000   \n",
              "25%               275.000000       0.000000      1.000000      0.000000   \n",
              "50%              1115.000000       0.000000      1.000000      1.000000   \n",
              "75%              4383.000000       0.000000      1.000000      1.000000   \n",
              "max             45426.000000       1.000000      1.000000      1.000000   \n",
              "std             17025.141398       0.216504      0.407881      0.481826   \n",
              "\n",
              "       Is_Mixed_Breed  Is_Multicolor  Color_Embedding_Cluster  \\\n",
              "count    25252.000000   25252.000000             25252.000000   \n",
              "mean         0.288769       0.512078                 2.687589   \n",
              "min          0.000000       0.000000                 0.000000   \n",
              "25%          0.000000       0.000000                 1.000000   \n",
              "50%          0.000000       1.000000                 4.000000   \n",
              "75%          1.000000       1.000000                 4.000000   \n",
              "max          1.000000       1.000000                 4.000000   \n",
              "std          0.453199       0.499864                 1.584628   \n",
              "\n",
              "       Breed_Embedding_Cluster  \n",
              "count             25252.000000  \n",
              "mean                  1.808292  \n",
              "min                   0.000000  \n",
              "25%                   1.000000  \n",
              "50%                   2.000000  \n",
              "75%                   3.000000  \n",
              "max                   4.000000  \n",
              "std                   1.194169  "
            ],
            "text/html": [
              "\n",
              "  <div id=\"df-1f55b8fc-4707-4748-be30-212adb9c04e1\" class=\"colab-df-container\">\n",
              "    <div>\n",
              "<style scoped>\n",
              "    .dataframe tbody tr th:only-of-type {\n",
              "        vertical-align: middle;\n",
              "    }\n",
              "\n",
              "    .dataframe tbody tr th {\n",
              "        vertical-align: top;\n",
              "    }\n",
              "\n",
              "    .dataframe thead th {\n",
              "        text-align: right;\n",
              "    }\n",
              "</style>\n",
              "<table border=\"1\" class=\"dataframe\">\n",
              "  <thead>\n",
              "    <tr style=\"text-align: right;\">\n",
              "      <th></th>\n",
              "      <th>Date_Of_Birth</th>\n",
              "      <th>Intake_Date</th>\n",
              "      <th>Outcome_Date</th>\n",
              "      <th>Days_in_Shelter</th>\n",
              "      <th>Multiple_Visit_Count</th>\n",
              "      <th>Age_inDays_at_Outcome</th>\n",
              "      <th>Is_Aggressive</th>\n",
              "      <th>Has_Name</th>\n",
              "      <th>Is_Fixed</th>\n",
              "      <th>Is_Mixed_Breed</th>\n",
              "      <th>Is_Multicolor</th>\n",
              "      <th>Color_Embedding_Cluster</th>\n",
              "      <th>Breed_Embedding_Cluster</th>\n",
              "    </tr>\n",
              "  </thead>\n",
              "  <tbody>\n",
              "    <tr>\n",
              "      <th>count</th>\n",
              "      <td>25252</td>\n",
              "      <td>25252</td>\n",
              "      <td>25252</td>\n",
              "      <td>25252.000000</td>\n",
              "      <td>25252.000000</td>\n",
              "      <td>25252.000000</td>\n",
              "      <td>25252.000000</td>\n",
              "      <td>25252.000000</td>\n",
              "      <td>25252.000000</td>\n",
              "      <td>25252.000000</td>\n",
              "      <td>25252.000000</td>\n",
              "      <td>25252.000000</td>\n",
              "      <td>25252.000000</td>\n",
              "    </tr>\n",
              "    <tr>\n",
              "      <th>mean</th>\n",
              "      <td>1991-09-03 00:25:56.787581056</td>\n",
              "      <td>2018-08-17 12:42:32.447330560</td>\n",
              "      <td>2018-09-04 21:07:02.556628992</td>\n",
              "      <td>18.350348</td>\n",
              "      <td>1.334865</td>\n",
              "      <td>9863.861872</td>\n",
              "      <td>0.049303</td>\n",
              "      <td>0.789205</td>\n",
              "      <td>0.633613</td>\n",
              "      <td>0.288769</td>\n",
              "      <td>0.512078</td>\n",
              "      <td>2.687589</td>\n",
              "      <td>1.808292</td>\n",
              "    </tr>\n",
              "    <tr>\n",
              "      <th>min</th>\n",
              "      <td>1900-01-01 00:00:00</td>\n",
              "      <td>2013-08-17 00:00:00</td>\n",
              "      <td>2014-01-01 00:00:00</td>\n",
              "      <td>0.000000</td>\n",
              "      <td>1.000000</td>\n",
              "      <td>-1336.000000</td>\n",
              "      <td>0.000000</td>\n",
              "      <td>0.000000</td>\n",
              "      <td>0.000000</td>\n",
              "      <td>0.000000</td>\n",
              "      <td>0.000000</td>\n",
              "      <td>0.000000</td>\n",
              "      <td>0.000000</td>\n",
              "    </tr>\n",
              "    <tr>\n",
              "      <th>25%</th>\n",
              "      <td>2006-03-30 12:00:00</td>\n",
              "      <td>2016-02-05 00:00:00</td>\n",
              "      <td>2016-02-23 00:00:00</td>\n",
              "      <td>1.000000</td>\n",
              "      <td>1.000000</td>\n",
              "      <td>275.000000</td>\n",
              "      <td>0.000000</td>\n",
              "      <td>1.000000</td>\n",
              "      <td>0.000000</td>\n",
              "      <td>0.000000</td>\n",
              "      <td>0.000000</td>\n",
              "      <td>1.000000</td>\n",
              "      <td>1.000000</td>\n",
              "    </tr>\n",
              "    <tr>\n",
              "      <th>50%</th>\n",
              "      <td>2014-03-12 00:00:00</td>\n",
              "      <td>2018-04-14 00:00:00</td>\n",
              "      <td>2018-04-28 00:00:00</td>\n",
              "      <td>9.000000</td>\n",
              "      <td>1.000000</td>\n",
              "      <td>1115.000000</td>\n",
              "      <td>0.000000</td>\n",
              "      <td>1.000000</td>\n",
              "      <td>1.000000</td>\n",
              "      <td>0.000000</td>\n",
              "      <td>1.000000</td>\n",
              "      <td>4.000000</td>\n",
              "      <td>2.000000</td>\n",
              "    </tr>\n",
              "    <tr>\n",
              "      <th>75%</th>\n",
              "      <td>2017-08-19 00:00:00</td>\n",
              "      <td>2021-02-08 00:00:00</td>\n",
              "      <td>2021-02-25 00:00:00</td>\n",
              "      <td>24.000000</td>\n",
              "      <td>1.000000</td>\n",
              "      <td>4383.000000</td>\n",
              "      <td>0.000000</td>\n",
              "      <td>1.000000</td>\n",
              "      <td>1.000000</td>\n",
              "      <td>1.000000</td>\n",
              "      <td>1.000000</td>\n",
              "      <td>4.000000</td>\n",
              "      <td>3.000000</td>\n",
              "    </tr>\n",
              "    <tr>\n",
              "      <th>max</th>\n",
              "      <td>2024-05-12 00:00:00</td>\n",
              "      <td>2024-05-15 00:00:00</td>\n",
              "      <td>2024-05-16 00:00:00</td>\n",
              "      <td>338.000000</td>\n",
              "      <td>19.000000</td>\n",
              "      <td>45426.000000</td>\n",
              "      <td>1.000000</td>\n",
              "      <td>1.000000</td>\n",
              "      <td>1.000000</td>\n",
              "      <td>1.000000</td>\n",
              "      <td>1.000000</td>\n",
              "      <td>4.000000</td>\n",
              "      <td>4.000000</td>\n",
              "    </tr>\n",
              "    <tr>\n",
              "      <th>std</th>\n",
              "      <td>NaN</td>\n",
              "      <td>NaN</td>\n",
              "      <td>NaN</td>\n",
              "      <td>28.865400</td>\n",
              "      <td>1.036737</td>\n",
              "      <td>17025.141398</td>\n",
              "      <td>0.216504</td>\n",
              "      <td>0.407881</td>\n",
              "      <td>0.481826</td>\n",
              "      <td>0.453199</td>\n",
              "      <td>0.499864</td>\n",
              "      <td>1.584628</td>\n",
              "      <td>1.194169</td>\n",
              "    </tr>\n",
              "  </tbody>\n",
              "</table>\n",
              "</div>\n",
              "    <div class=\"colab-df-buttons\">\n",
              "\n",
              "  <div class=\"colab-df-container\">\n",
              "    <button class=\"colab-df-convert\" onclick=\"convertToInteractive('df-1f55b8fc-4707-4748-be30-212adb9c04e1')\"\n",
              "            title=\"Convert this dataframe to an interactive table.\"\n",
              "            style=\"display:none;\">\n",
              "\n",
              "  <svg xmlns=\"http://www.w3.org/2000/svg\" height=\"24px\" viewBox=\"0 -960 960 960\">\n",
              "    <path d=\"M120-120v-720h720v720H120Zm60-500h600v-160H180v160Zm220 220h160v-160H400v160Zm0 220h160v-160H400v160ZM180-400h160v-160H180v160Zm440 0h160v-160H620v160ZM180-180h160v-160H180v160Zm440 0h160v-160H620v160Z\"/>\n",
              "  </svg>\n",
              "    </button>\n",
              "\n",
              "  <style>\n",
              "    .colab-df-container {\n",
              "      display:flex;\n",
              "      gap: 12px;\n",
              "    }\n",
              "\n",
              "    .colab-df-convert {\n",
              "      background-color: #E8F0FE;\n",
              "      border: none;\n",
              "      border-radius: 50%;\n",
              "      cursor: pointer;\n",
              "      display: none;\n",
              "      fill: #1967D2;\n",
              "      height: 32px;\n",
              "      padding: 0 0 0 0;\n",
              "      width: 32px;\n",
              "    }\n",
              "\n",
              "    .colab-df-convert:hover {\n",
              "      background-color: #E2EBFA;\n",
              "      box-shadow: 0px 1px 2px rgba(60, 64, 67, 0.3), 0px 1px 3px 1px rgba(60, 64, 67, 0.15);\n",
              "      fill: #174EA6;\n",
              "    }\n",
              "\n",
              "    .colab-df-buttons div {\n",
              "      margin-bottom: 4px;\n",
              "    }\n",
              "\n",
              "    [theme=dark] .colab-df-convert {\n",
              "      background-color: #3B4455;\n",
              "      fill: #D2E3FC;\n",
              "    }\n",
              "\n",
              "    [theme=dark] .colab-df-convert:hover {\n",
              "      background-color: #434B5C;\n",
              "      box-shadow: 0px 1px 3px 1px rgba(0, 0, 0, 0.15);\n",
              "      filter: drop-shadow(0px 1px 2px rgba(0, 0, 0, 0.3));\n",
              "      fill: #FFFFFF;\n",
              "    }\n",
              "  </style>\n",
              "\n",
              "    <script>\n",
              "      const buttonEl =\n",
              "        document.querySelector('#df-1f55b8fc-4707-4748-be30-212adb9c04e1 button.colab-df-convert');\n",
              "      buttonEl.style.display =\n",
              "        google.colab.kernel.accessAllowed ? 'block' : 'none';\n",
              "\n",
              "      async function convertToInteractive(key) {\n",
              "        const element = document.querySelector('#df-1f55b8fc-4707-4748-be30-212adb9c04e1');\n",
              "        const dataTable =\n",
              "          await google.colab.kernel.invokeFunction('convertToInteractive',\n",
              "                                                    [key], {});\n",
              "        if (!dataTable) return;\n",
              "\n",
              "        const docLinkHtml = 'Like what you see? Visit the ' +\n",
              "          '<a target=\"_blank\" href=https://colab.research.google.com/notebooks/data_table.ipynb>data table notebook</a>'\n",
              "          + ' to learn more about interactive tables.';\n",
              "        element.innerHTML = '';\n",
              "        dataTable['output_type'] = 'display_data';\n",
              "        await google.colab.output.renderOutput(dataTable, element);\n",
              "        const docLink = document.createElement('div');\n",
              "        docLink.innerHTML = docLinkHtml;\n",
              "        element.appendChild(docLink);\n",
              "      }\n",
              "    </script>\n",
              "  </div>\n",
              "\n",
              "\n",
              "<div id=\"df-1d57eb22-94e9-47d3-9616-db449bd8b87e\">\n",
              "  <button class=\"colab-df-quickchart\" onclick=\"quickchart('df-1d57eb22-94e9-47d3-9616-db449bd8b87e')\"\n",
              "            title=\"Suggest charts\"\n",
              "            style=\"display:none;\">\n",
              "\n",
              "<svg xmlns=\"http://www.w3.org/2000/svg\" height=\"24px\"viewBox=\"0 0 24 24\"\n",
              "     width=\"24px\">\n",
              "    <g>\n",
              "        <path d=\"M19 3H5c-1.1 0-2 .9-2 2v14c0 1.1.9 2 2 2h14c1.1 0 2-.9 2-2V5c0-1.1-.9-2-2-2zM9 17H7v-7h2v7zm4 0h-2V7h2v10zm4 0h-2v-4h2v4z\"/>\n",
              "    </g>\n",
              "</svg>\n",
              "  </button>\n",
              "\n",
              "<style>\n",
              "  .colab-df-quickchart {\n",
              "      --bg-color: #E8F0FE;\n",
              "      --fill-color: #1967D2;\n",
              "      --hover-bg-color: #E2EBFA;\n",
              "      --hover-fill-color: #174EA6;\n",
              "      --disabled-fill-color: #AAA;\n",
              "      --disabled-bg-color: #DDD;\n",
              "  }\n",
              "\n",
              "  [theme=dark] .colab-df-quickchart {\n",
              "      --bg-color: #3B4455;\n",
              "      --fill-color: #D2E3FC;\n",
              "      --hover-bg-color: #434B5C;\n",
              "      --hover-fill-color: #FFFFFF;\n",
              "      --disabled-bg-color: #3B4455;\n",
              "      --disabled-fill-color: #666;\n",
              "  }\n",
              "\n",
              "  .colab-df-quickchart {\n",
              "    background-color: var(--bg-color);\n",
              "    border: none;\n",
              "    border-radius: 50%;\n",
              "    cursor: pointer;\n",
              "    display: none;\n",
              "    fill: var(--fill-color);\n",
              "    height: 32px;\n",
              "    padding: 0;\n",
              "    width: 32px;\n",
              "  }\n",
              "\n",
              "  .colab-df-quickchart:hover {\n",
              "    background-color: var(--hover-bg-color);\n",
              "    box-shadow: 0 1px 2px rgba(60, 64, 67, 0.3), 0 1px 3px 1px rgba(60, 64, 67, 0.15);\n",
              "    fill: var(--button-hover-fill-color);\n",
              "  }\n",
              "\n",
              "  .colab-df-quickchart-complete:disabled,\n",
              "  .colab-df-quickchart-complete:disabled:hover {\n",
              "    background-color: var(--disabled-bg-color);\n",
              "    fill: var(--disabled-fill-color);\n",
              "    box-shadow: none;\n",
              "  }\n",
              "\n",
              "  .colab-df-spinner {\n",
              "    border: 2px solid var(--fill-color);\n",
              "    border-color: transparent;\n",
              "    border-bottom-color: var(--fill-color);\n",
              "    animation:\n",
              "      spin 1s steps(1) infinite;\n",
              "  }\n",
              "\n",
              "  @keyframes spin {\n",
              "    0% {\n",
              "      border-color: transparent;\n",
              "      border-bottom-color: var(--fill-color);\n",
              "      border-left-color: var(--fill-color);\n",
              "    }\n",
              "    20% {\n",
              "      border-color: transparent;\n",
              "      border-left-color: var(--fill-color);\n",
              "      border-top-color: var(--fill-color);\n",
              "    }\n",
              "    30% {\n",
              "      border-color: transparent;\n",
              "      border-left-color: var(--fill-color);\n",
              "      border-top-color: var(--fill-color);\n",
              "      border-right-color: var(--fill-color);\n",
              "    }\n",
              "    40% {\n",
              "      border-color: transparent;\n",
              "      border-right-color: var(--fill-color);\n",
              "      border-top-color: var(--fill-color);\n",
              "    }\n",
              "    60% {\n",
              "      border-color: transparent;\n",
              "      border-right-color: var(--fill-color);\n",
              "    }\n",
              "    80% {\n",
              "      border-color: transparent;\n",
              "      border-right-color: var(--fill-color);\n",
              "      border-bottom-color: var(--fill-color);\n",
              "    }\n",
              "    90% {\n",
              "      border-color: transparent;\n",
              "      border-bottom-color: var(--fill-color);\n",
              "    }\n",
              "  }\n",
              "</style>\n",
              "\n",
              "  <script>\n",
              "    async function quickchart(key) {\n",
              "      const quickchartButtonEl =\n",
              "        document.querySelector('#' + key + ' button');\n",
              "      quickchartButtonEl.disabled = true;  // To prevent multiple clicks.\n",
              "      quickchartButtonEl.classList.add('colab-df-spinner');\n",
              "      try {\n",
              "        const charts = await google.colab.kernel.invokeFunction(\n",
              "            'suggestCharts', [key], {});\n",
              "      } catch (error) {\n",
              "        console.error('Error during call to suggestCharts:', error);\n",
              "      }\n",
              "      quickchartButtonEl.classList.remove('colab-df-spinner');\n",
              "      quickchartButtonEl.classList.add('colab-df-quickchart-complete');\n",
              "    }\n",
              "    (() => {\n",
              "      let quickchartButtonEl =\n",
              "        document.querySelector('#df-1d57eb22-94e9-47d3-9616-db449bd8b87e button');\n",
              "      quickchartButtonEl.style.display =\n",
              "        google.colab.kernel.accessAllowed ? 'block' : 'none';\n",
              "    })();\n",
              "  </script>\n",
              "</div>\n",
              "\n",
              "    </div>\n",
              "  </div>\n"
            ],
            "application/vnd.google.colaboratory.intrinsic+json": {
              "type": "dataframe",
              "summary": "{\n  \"name\": \"df\",\n  \"rows\": 8,\n  \"fields\": [\n    {\n      \"column\": \"Date_Of_Birth\",\n      \"properties\": {\n        \"dtype\": \"date\",\n        \"min\": \"1900-01-01 00:00:00\",\n        \"max\": \"2024-05-12 00:00:00\",\n        \"num_unique_values\": 7,\n        \"samples\": [\n          \"25252\",\n          \"1991-09-03 00:25:56.787581056\",\n          \"2017-08-19 00:00:00\"\n        ],\n        \"semantic_type\": \"\",\n        \"description\": \"\"\n      }\n    },\n    {\n      \"column\": \"Intake_Date\",\n      \"properties\": {\n        \"dtype\": \"date\",\n        \"min\": \"1970-01-01 00:00:00.000025252\",\n        \"max\": \"2024-05-15 00:00:00\",\n        \"num_unique_values\": 7,\n        \"samples\": [\n          \"25252\",\n          \"2018-08-17 12:42:32.447330560\",\n          \"2021-02-08 00:00:00\"\n        ],\n        \"semantic_type\": \"\",\n        \"description\": \"\"\n      }\n    },\n    {\n      \"column\": \"Outcome_Date\",\n      \"properties\": {\n        \"dtype\": \"date\",\n        \"min\": \"1970-01-01 00:00:00.000025252\",\n        \"max\": \"2024-05-16 00:00:00\",\n        \"num_unique_values\": 7,\n        \"samples\": [\n          \"25252\",\n          \"2018-09-04 21:07:02.556628992\",\n          \"2021-02-25 00:00:00\"\n        ],\n        \"semantic_type\": \"\",\n        \"description\": \"\"\n      }\n    },\n    {\n      \"column\": \"Days_in_Shelter\",\n      \"properties\": {\n        \"dtype\": \"number\",\n        \"std\": 8907.486106751241,\n        \"min\": 0.0,\n        \"max\": 25252.0,\n        \"num_unique_values\": 8,\n        \"samples\": [\n          18.350348487248535,\n          24.0,\n          25252.0\n        ],\n        \"semantic_type\": \"\",\n        \"description\": \"\"\n      }\n    },\n    {\n      \"column\": \"Multiple_Visit_Count\",\n      \"properties\": {\n        \"dtype\": \"number\",\n        \"std\": 8926.650967504203,\n        \"min\": 1.0,\n        \"max\": 25252.0,\n        \"num_unique_values\": 5,\n        \"samples\": [\n          1.3348645651829558,\n          1.036737273738119,\n          1.0\n        ],\n        \"semantic_type\": \"\",\n        \"description\": \"\"\n      }\n    },\n    {\n      \"column\": \"Age_inDays_at_Outcome\",\n      \"properties\": {\n        \"dtype\": \"number\",\n        \"std\": 16080.371976264581,\n        \"min\": -1336.0,\n        \"max\": 45426.0,\n        \"num_unique_values\": 8,\n        \"samples\": [\n          9863.861872326945,\n          4383.0,\n          25252.0\n        ],\n        \"semantic_type\": \"\",\n        \"description\": \"\"\n      }\n    },\n    {\n      \"column\": \"Is_Aggressive\",\n      \"properties\": {\n        \"dtype\": \"number\",\n        \"std\": 8927.86629290276,\n        \"min\": 0.0,\n        \"max\": 25252.0,\n        \"num_unique_values\": 5,\n        \"samples\": [\n          0.04930302550293046,\n          0.2165042573066355,\n          0.0\n        ],\n        \"semantic_type\": \"\",\n        \"description\": \"\"\n      }\n    },\n    {\n      \"column\": \"Has_Name\",\n      \"properties\": {\n        \"dtype\": \"number\",\n        \"std\": 8927.667734218869,\n        \"min\": 0.0,\n        \"max\": 25252.0,\n        \"num_unique_values\": 5,\n        \"samples\": [\n          0.7892048154601615,\n          0.40788130993138744,\n          0.0\n        ],\n        \"semantic_type\": \"\",\n        \"description\": \"\"\n      }\n    },\n    {\n      \"column\": \"Is_Fixed\",\n      \"properties\": {\n        \"dtype\": \"number\",\n        \"std\": 8927.72236788503,\n        \"min\": 0.0,\n        \"max\": 25252.0,\n        \"num_unique_values\": 5,\n        \"samples\": [\n          0.6336131791541264,\n          0.48182643343152887,\n          0.0\n        ],\n        \"semantic_type\": \"\",\n        \"description\": \"\"\n      }\n    },\n    {\n      \"column\": \"Is_Mixed_Breed\",\n      \"properties\": {\n        \"dtype\": \"number\",\n        \"std\": 8927.791738652324,\n        \"min\": 0.0,\n        \"max\": 25252.0,\n        \"num_unique_values\": 5,\n        \"samples\": [\n          0.2887692063994931,\n          0.4531993881677492,\n          0.0\n        ],\n        \"semantic_type\": \"\",\n        \"description\": \"\"\n      }\n    },\n    {\n      \"column\": \"Is_Multicolor\",\n      \"properties\": {\n        \"dtype\": \"number\",\n        \"std\": 8927.72759528062,\n        \"min\": 0.0,\n        \"max\": 25252.0,\n        \"num_unique_values\": 5,\n        \"samples\": [\n          0.5120782512276255,\n          0.49986399216978716,\n          0.0\n        ],\n        \"semantic_type\": \"\",\n        \"description\": \"\"\n      }\n    },\n    {\n      \"column\": \"Color_Embedding_Cluster\",\n      \"properties\": {\n        \"dtype\": \"number\",\n        \"std\": 8927.05796952456,\n        \"min\": 0.0,\n        \"max\": 25252.0,\n        \"num_unique_values\": 6,\n        \"samples\": [\n          25252.0,\n          2.6875891018533187,\n          1.5846276306793943\n        ],\n        \"semantic_type\": \"\",\n        \"description\": \"\"\n      }\n    },\n    {\n      \"column\": \"Breed_Embedding_Cluster\",\n      \"properties\": {\n        \"dtype\": \"number\",\n        \"std\": 8927.27358013648,\n        \"min\": 0.0,\n        \"max\": 25252.0,\n        \"num_unique_values\": 8,\n        \"samples\": [\n          1.8082924124821795,\n          3.0,\n          25252.0\n        ],\n        \"semantic_type\": \"\",\n        \"description\": \"\"\n      }\n    }\n  ]\n}"
            }
          },
          "metadata": {},
          "execution_count": 25
        }
      ],
      "source": [
        "df.describe()"
      ]
    },
    {
      "cell_type": "markdown",
      "metadata": {
        "id": "g0KZWFRuKmDQ"
      },
      "source": [
        "# Model V2"
      ]
    },
    {
      "cell_type": "code",
      "execution_count": 26,
      "metadata": {
        "colab": {
          "base_uri": "https://localhost:8080/"
        },
        "id": "o2bcweYPKmDT",
        "outputId": "b639663d-2e3f-4d94-9222-a31a73720ee9"
      },
      "outputs": [
        {
          "output_type": "stream",
          "name": "stdout",
          "text": [
            "Days_in_Shelter_Label\n",
            "0    7170\n",
            "2    5017\n",
            "4    4892\n",
            "3    4671\n",
            "1    3502\n",
            "Name: count, dtype: int64\n"
          ]
        }
      ],
      "source": [
        "print(df['Days_in_Shelter_Label'].value_counts())"
      ]
    },
    {
      "cell_type": "code",
      "execution_count": 27,
      "metadata": {
        "id": "0BjbKln6KmDY"
      },
      "outputs": [],
      "source": [
        "#\n",
        "df['location_zipcode'] = df['Location'].str.extract(r'(\\d+)(?=\\()')\n",
        "df['intake_year'] = df['Intake_Date'].dt.year\n",
        "df['intake_month'] = df['Intake_Date'].dt.month\n",
        "df['intake_day'] = df['Intake_Date'].dt.day\n",
        "\n",
        "df['birth_year'] = df['Date_Of_Birth'].dt.year\n",
        "df['birth_month'] = df['Date_Of_Birth'].dt.month\n",
        "df['birth_day'] = df['Date_Of_Birth'].dt.day\n"
      ]
    },
    {
      "cell_type": "code",
      "execution_count": 28,
      "metadata": {
        "colab": {
          "base_uri": "https://localhost:8080/"
        },
        "id": "BHS1JZO0KmDZ",
        "outputId": "2ea67d16-b3e2-453e-a748-732d90d6b2db"
      },
      "outputs": [
        {
          "output_type": "execute_result",
          "data": {
            "text/plain": [
              "Index(['Name', 'Type', 'Breed', 'Color', 'Sex', 'Size', 'Date_Of_Birth',\n",
              "       'Impound_Number', 'Kennel_Number', 'Animal_ID', 'Intake_Date',\n",
              "       'Outcome_Date', 'Days_in_Shelter', 'Intake_Type', 'Intake_Subtype',\n",
              "       'Outcome_Type', 'Outcome_Subtype', 'Intake_Condition',\n",
              "       'Outcome_Condition', 'Intake_Jurisdiction', 'Outcome_Jurisdiction',\n",
              "       'Outcome_Zip_Code', 'Location', 'Multiple_Visit_Count',\n",
              "       'Age_inDays_at_Outcome', 'Age_Group', 'Is_Aggressive', 'Has_Name',\n",
              "       'Is_Fixed', 'Is_Mixed_Breed', 'Is_Multicolor', 'Color_Embedding',\n",
              "       'Color_Embedding_Cluster', 'Breed_Embedding', 'Breed_Embedding_Cluster',\n",
              "       'Days_in_Shelter_Label', 'location_zipcode', 'intake_year',\n",
              "       'intake_month', 'intake_day', 'birth_year', 'birth_month', 'birth_day'],\n",
              "      dtype='object')"
            ]
          },
          "metadata": {},
          "execution_count": 28
        }
      ],
      "source": [
        "df.columns"
      ]
    },
    {
      "cell_type": "code",
      "execution_count": 29,
      "metadata": {
        "colab": {
          "base_uri": "https://localhost:8080/"
        },
        "id": "r3647WB4KmDd",
        "outputId": "5d14ba41-165c-430b-e928-abf239327381"
      },
      "outputs": [
        {
          "output_type": "execute_result",
          "data": {
            "text/plain": [
              "Index(['Type', 'Breed', 'Color', 'Sex', 'Size', 'Kennel_Number', 'Intake_Type',\n",
              "       'Intake_Subtype', 'Intake_Condition', 'Intake_Jurisdiction',\n",
              "       'Multiple_Visit_Count', 'Age_inDays_at_Outcome', 'Age_Group',\n",
              "       'Is_Aggressive', 'Has_Name', 'Is_Fixed', 'Is_Mixed_Breed',\n",
              "       'Is_Multicolor', 'Color_Embedding_Cluster', 'Breed_Embedding_Cluster',\n",
              "       'Days_in_Shelter_Label', 'intake_year', 'intake_month', 'intake_day',\n",
              "       'birth_year', 'birth_month', 'birth_day'],\n",
              "      dtype='object')"
            ]
          },
          "metadata": {},
          "execution_count": 29
        }
      ],
      "source": [
        "df_model_v1 = df.drop(columns=[\n",
        "  'Name',\n",
        "  'Impound_Number',\n",
        "  'Animal_ID',\n",
        "  'Outcome_Date',\n",
        "  'Days_in_Shelter',\n",
        "  'Outcome_Type',\n",
        "  'Outcome_Subtype',\n",
        "  'Outcome_Condition',\n",
        "  'Outcome_Jurisdiction',\n",
        "  'Outcome_Zip_Code',\n",
        "  'Location',\n",
        "  'Intake_Date',\n",
        "  'Date_Of_Birth',\n",
        "  'location_zipcode',\n",
        "  'Color_Embedding',\n",
        "  'Breed_Embedding'\n",
        "  ])\n",
        "df_model_v1.columns"
      ]
    },
    {
      "cell_type": "code",
      "execution_count": 30,
      "metadata": {
        "id": "cDVFt3DUKmDe"
      },
      "outputs": [],
      "source": [
        "from sklearn.model_selection import train_test_split\n",
        "from sklearn.preprocessing import LabelEncoder, StandardScaler\n",
        "from sklearn.ensemble import RandomForestClassifier\n",
        "from sklearn.metrics import classification_report, confusion_matrix\n",
        "import seaborn as sns\n",
        "import matplotlib.pyplot as plt\n",
        "\n",
        "# Encode categorical features\n",
        "label_encoders = {}\n",
        "for column in ['Type', 'Breed', 'Color', 'Sex', 'Size', 'Kennel_Number','Intake_Type','Intake_Subtype','Intake_Condition','Intake_Jurisdiction','Age_Group']:\n",
        "    le = LabelEncoder()\n",
        "    df_model_v1[column] = le.fit_transform(df_model_v1[column])\n",
        "    label_encoders[column] = le"
      ]
    },
    {
      "cell_type": "code",
      "execution_count": 31,
      "metadata": {
        "colab": {
          "base_uri": "https://localhost:8080/"
        },
        "id": "eYA5ARapKmDf",
        "outputId": "ded75599-c756-4f2c-d8e4-3fd4bdb0c860"
      },
      "outputs": [
        {
          "output_type": "execute_result",
          "data": {
            "text/plain": [
              "Type                          int64\n",
              "Breed                         int64\n",
              "Color                         int64\n",
              "Sex                           int64\n",
              "Size                          int64\n",
              "Kennel_Number                 int64\n",
              "Intake_Type                   int64\n",
              "Intake_Subtype                int64\n",
              "Intake_Condition              int64\n",
              "Intake_Jurisdiction           int64\n",
              "Multiple_Visit_Count          int64\n",
              "Age_inDays_at_Outcome         int64\n",
              "Age_Group                     int64\n",
              "Is_Aggressive                 int64\n",
              "Has_Name                      int64\n",
              "Is_Fixed                      int64\n",
              "Is_Mixed_Breed                int64\n",
              "Is_Multicolor                 int64\n",
              "Color_Embedding_Cluster       int32\n",
              "Breed_Embedding_Cluster       int32\n",
              "Days_in_Shelter_Label      category\n",
              "intake_year                   int32\n",
              "intake_month                  int32\n",
              "intake_day                    int32\n",
              "birth_year                    int32\n",
              "birth_month                   int32\n",
              "birth_day                     int32\n",
              "dtype: object"
            ]
          },
          "metadata": {},
          "execution_count": 31
        }
      ],
      "source": [
        "df_model_v1.dtypes"
      ]
    },
    {
      "cell_type": "code",
      "execution_count": 32,
      "metadata": {
        "id": "nsSsZDZcKmDf"
      },
      "outputs": [],
      "source": [
        "# Define features and target\n",
        "X = df_model_v1[['Type', 'Breed', 'Color', 'Sex', 'Size', 'Kennel_Number', 'Intake_Type',\n",
        "       'Intake_Subtype', 'Intake_Condition', 'Intake_Jurisdiction',\n",
        "       'Multiple_Visit_Count', 'Age_inDays_at_Outcome', 'Age_Group',\n",
        "       'Is_Aggressive', 'Has_Name', 'Is_Fixed', 'Is_Mixed_Breed',\n",
        "       'Is_Multicolor', 'Color_Embedding_Cluster', 'Breed_Embedding_Cluster', 'intake_year', 'intake_month', 'intake_day',\n",
        "       'birth_year', 'birth_month', 'birth_day']]\n",
        "y = df_model_v1['Days_in_Shelter_Label']"
      ]
    },
    {
      "cell_type": "code",
      "execution_count": 33,
      "metadata": {
        "id": "YX24YGwKKmDg"
      },
      "outputs": [],
      "source": [
        "# Split data into training and testing sets\n",
        "X_train, X_test, y_train, y_test = train_test_split(X, y, test_size=0.2, random_state=42)"
      ]
    },
    {
      "cell_type": "code",
      "execution_count": 34,
      "metadata": {
        "id": "BLzZuydrKmDg"
      },
      "outputs": [],
      "source": [
        "# Scale features\n",
        "scaler = StandardScaler()\n",
        "X_train = scaler.fit_transform(X_train)\n",
        "X_test = scaler.transform(X_test)"
      ]
    },
    {
      "cell_type": "markdown",
      "metadata": {
        "id": "KYzlNOPoKmDg"
      },
      "source": [
        "## Recursive Feature Elimination with Random Forest"
      ]
    },
    {
      "cell_type": "code",
      "source": [
        "import pandas as pd\n",
        "import numpy as np\n",
        "from sklearn.model_selection import train_test_split, GridSearchCV\n",
        "from sklearn.preprocessing import LabelEncoder, StandardScaler\n",
        "from sklearn.ensemble import RandomForestClassifier, GradientBoostingClassifier\n",
        "from xgboost import XGBClassifier\n",
        "from sklearn.linear_model import LogisticRegression\n",
        "from sklearn.metrics import classification_report, confusion_matrix\n",
        "from sklearn.feature_selection import RFE\n",
        "from sklearn.pipeline import Pipeline\n",
        "import seaborn as sns\n",
        "import matplotlib.pyplot as plt"
      ],
      "metadata": {
        "id": "lz3uidgUur0z"
      },
      "execution_count": 35,
      "outputs": []
    },
    {
      "cell_type": "code",
      "source": [
        "# Perform Recursive Feature Elimination with Random Forest\n",
        "model_rf_5 = RandomForestClassifier(n_estimators=100, random_state=42)\n",
        "rfe_5 = RFE(estimator=model_rf_5, n_features_to_select=5, step=1)\n",
        "rfe_5.fit(X_train, y_train)\n",
        "\n",
        "# Determine selected and eliminated features\n",
        "# Get the ranking of the features\n",
        "ranking_5 = rfe_5.ranking_\n",
        "feature_names = X.columns\n",
        "\n",
        "selected_features_5 = feature_names[rfe_5.support_]\n",
        "\n",
        "print(\"Selected features:\")\n",
        "for feature in selected_features_5:\n",
        "    print(feature)"
      ],
      "metadata": {
        "colab": {
          "base_uri": "https://localhost:8080/"
        },
        "id": "N76Sb3z0u7Gm",
        "outputId": "5bbbc7f3-0680-4084-aa82-4ff398766bbe"
      },
      "execution_count": 39,
      "outputs": [
        {
          "output_type": "stream",
          "name": "stdout",
          "text": [
            "Selected features:\n",
            "Color\n",
            "Kennel_Number\n",
            "Age_inDays_at_Outcome\n",
            "intake_day\n",
            "birth_day\n"
          ]
        }
      ]
    },
    {
      "cell_type": "code",
      "source": [
        "# Perform Recursive Feature Elimination with Random Forest\n",
        "model_rf_6 = RandomForestClassifier(n_estimators=100, random_state=42)\n",
        "rfe_6 = RFE(estimator=model_rf_6, n_features_to_select=6, step=1)\n",
        "rfe_6.fit(X_train, y_train)\n",
        "\n",
        "# Determine selected and eliminated features\n",
        "# Get the ranking of the features\n",
        "ranking_6 = rfe_6.ranking_\n",
        "feature_names = X.columns\n",
        "\n",
        "selected_features_6 = feature_names[rfe_6.support_]\n",
        "\n",
        "print(\"Selected features:\")\n",
        "for feature in selected_features_6:\n",
        "    print(feature)\n"
      ],
      "metadata": {
        "colab": {
          "base_uri": "https://localhost:8080/"
        },
        "id": "h9jgMyUJvwqr",
        "outputId": "20815d20-659f-45b0-e43f-b76c8b127d15"
      },
      "execution_count": 40,
      "outputs": [
        {
          "output_type": "stream",
          "name": "stdout",
          "text": [
            "Selected features:\n",
            "Breed\n",
            "Color\n",
            "Kennel_Number\n",
            "Age_inDays_at_Outcome\n",
            "intake_day\n",
            "birth_day\n"
          ]
        }
      ]
    },
    {
      "cell_type": "code",
      "source": [
        "# Perform Recursive Feature Elimination with Random Forest\n",
        "model_rf_8 = RandomForestClassifier(n_estimators=100, random_state=42)\n",
        "rfe_8 = RFE(estimator=model_rf_8, n_features_to_select=8, step=1)\n",
        "rfe_8.fit(X_train, y_train)\n",
        "\n",
        "# Determine selected and eliminated features\n",
        "# Get the ranking of the features\n",
        "ranking_8 = rfe_8.ranking_\n",
        "feature_names = X.columns\n",
        "\n",
        "selected_features_8 = feature_names[rfe_8.support_]\n",
        "\n",
        "print(\"Selected features:\")\n",
        "for feature in selected_features_8:\n",
        "    print(feature)"
      ],
      "metadata": {
        "colab": {
          "base_uri": "https://localhost:8080/"
        },
        "id": "mkQAvbf2xtM9",
        "outputId": "af4aa41e-6572-48e0-cab0-942c61e8f98f"
      },
      "execution_count": 41,
      "outputs": [
        {
          "output_type": "stream",
          "name": "stdout",
          "text": [
            "Selected features:\n",
            "Breed\n",
            "Color\n",
            "Kennel_Number\n",
            "Age_inDays_at_Outcome\n",
            "intake_year\n",
            "intake_month\n",
            "intake_day\n",
            "birth_day\n"
          ]
        }
      ]
    },
    {
      "cell_type": "code",
      "source": [
        "# Perform Recursive Feature Elimination with Random Forest\n",
        "model_rf_10 = RandomForestClassifier(n_estimators=100, random_state=42)\n",
        "rfe_10 = RFE(estimator=model_rf_10, n_features_to_select=10, step=1)\n",
        "rfe_10.fit(X_train, y_train)\n",
        "\n",
        "# Determine selected and eliminated features\n",
        "# Get the ranking of the features\n",
        "ranking_10 = rfe_10.ranking_\n",
        "feature_names = X.columns\n",
        "\n",
        "selected_features_10 = feature_names[rfe_10.support_]\n",
        "\n",
        "print(\"Selected features:\")\n",
        "for feature in selected_features_10:\n",
        "    print(feature)"
      ],
      "metadata": {
        "colab": {
          "base_uri": "https://localhost:8080/"
        },
        "id": "DpTal-RHx_Bs",
        "outputId": "6dadb55c-cf20-401d-8dc7-d033ecca063d"
      },
      "execution_count": 42,
      "outputs": [
        {
          "output_type": "stream",
          "name": "stdout",
          "text": [
            "Selected features:\n",
            "Breed\n",
            "Color\n",
            "Kennel_Number\n",
            "Age_inDays_at_Outcome\n",
            "intake_year\n",
            "intake_month\n",
            "intake_day\n",
            "birth_year\n",
            "birth_month\n",
            "birth_day\n"
          ]
        }
      ]
    },
    {
      "cell_type": "code",
      "source": [
        "# Perform Recursive Feature Elimination with Random Forest\n",
        "model_rf_15 = RandomForestClassifier(n_estimators=100, random_state=42)\n",
        "rfe_15 = RFE(estimator=model_rf_15, n_features_to_select=15, step=1)\n",
        "rfe_15.fit(X_train, y_train)\n",
        "\n",
        "# Determine selected and eliminated features\n",
        "# Get the ranking of the features\n",
        "ranking_15 = rfe_15.ranking_\n",
        "feature_names = X.columns\n",
        "\n",
        "selected_features_15 = feature_names[rfe_15.support_]\n",
        "\n",
        "print(\"Selected features:\")\n",
        "for feature in selected_features_15:\n",
        "    print(feature)"
      ],
      "metadata": {
        "colab": {
          "base_uri": "https://localhost:8080/"
        },
        "id": "CDIoLDdRyMui",
        "outputId": "aa4a6136-80aa-4175-d1c6-2dd93ab25054"
      },
      "execution_count": 43,
      "outputs": [
        {
          "output_type": "stream",
          "name": "stdout",
          "text": [
            "Selected features:\n",
            "Breed\n",
            "Color\n",
            "Size\n",
            "Kennel_Number\n",
            "Intake_Type\n",
            "Intake_Subtype\n",
            "Intake_Condition\n",
            "Age_inDays_at_Outcome\n",
            "Has_Name\n",
            "intake_year\n",
            "intake_month\n",
            "intake_day\n",
            "birth_year\n",
            "birth_month\n",
            "birth_day\n"
          ]
        }
      ]
    },
    {
      "cell_type": "code",
      "source": [
        "# Perform Recursive Feature Elimination with Random Forest\n",
        "model_rf_18 = RandomForestClassifier(n_estimators=100, random_state=42)\n",
        "rfe_18 = RFE(estimator=model_rf_18, n_features_to_select=18, step=1)\n",
        "rfe_18.fit(X_train, y_train)\n",
        "\n",
        "# Determine selected and eliminated features\n",
        "# Get the ranking of the features\n",
        "ranking_18 = rfe_18.ranking_\n",
        "feature_names = X.columns\n",
        "\n",
        "selected_features_18 = feature_names[rfe_18.support_]\n",
        "\n",
        "print(\"Selected features:\")\n",
        "for feature in selected_features_18:\n",
        "    print(feature)"
      ],
      "metadata": {
        "colab": {
          "base_uri": "https://localhost:8080/"
        },
        "id": "Gbaw9B5N00wQ",
        "outputId": "17ff263d-1c07-4705-9a27-945c03198a52"
      },
      "execution_count": 49,
      "outputs": [
        {
          "output_type": "stream",
          "name": "stdout",
          "text": [
            "Selected features:\n",
            "Breed\n",
            "Color\n",
            "Sex\n",
            "Size\n",
            "Kennel_Number\n",
            "Intake_Type\n",
            "Intake_Subtype\n",
            "Intake_Condition\n",
            "Age_inDays_at_Outcome\n",
            "Has_Name\n",
            "Color_Embedding_Cluster\n",
            "Breed_Embedding_Cluster\n",
            "intake_year\n",
            "intake_month\n",
            "intake_day\n",
            "birth_year\n",
            "birth_month\n",
            "birth_day\n"
          ]
        }
      ]
    },
    {
      "cell_type": "code",
      "source": [
        "# Perform Recursive Feature Elimination with Random Forest\n",
        "model_rf_20 = RandomForestClassifier(n_estimators=100, random_state=42)\n",
        "rfe_20 = RFE(estimator=model_rf_20, n_features_to_select=20, step=1)\n",
        "rfe_20.fit(X_train, y_train)\n",
        "\n",
        "# Determine selected and eliminated features\n",
        "# Get the ranking of the features\n",
        "ranking_20 = rfe_20.ranking_\n",
        "feature_names = X.columns\n",
        "\n",
        "selected_features_20 = feature_names[rfe_20.support_]\n",
        "\n",
        "print(\"Selected features:\")\n",
        "for feature in selected_features_20:\n",
        "    print(feature)"
      ],
      "metadata": {
        "colab": {
          "base_uri": "https://localhost:8080/"
        },
        "id": "RXdkXikr1IGS",
        "outputId": "8afdd35d-aaf1-4341-9955-8e0cf85068c0"
      },
      "execution_count": 50,
      "outputs": [
        {
          "output_type": "stream",
          "name": "stdout",
          "text": [
            "Selected features:\n",
            "Breed\n",
            "Color\n",
            "Sex\n",
            "Size\n",
            "Kennel_Number\n",
            "Intake_Type\n",
            "Intake_Subtype\n",
            "Intake_Condition\n",
            "Intake_Jurisdiction\n",
            "Age_inDays_at_Outcome\n",
            "Has_Name\n",
            "Is_Fixed\n",
            "Color_Embedding_Cluster\n",
            "Breed_Embedding_Cluster\n",
            "intake_year\n",
            "intake_month\n",
            "intake_day\n",
            "birth_year\n",
            "birth_month\n",
            "birth_day\n"
          ]
        }
      ]
    },
    {
      "cell_type": "code",
      "source": [
        "# Select features based on RFE\n",
        "X_train_rfe_5 = rfe_5.transform(X_train)\n",
        "X_test_rfe_5 = rfe_5.transform(X_test)\n",
        "\n",
        "model_rf_5.fit(X_train_rfe_5,y_train)\n",
        "\n",
        "# Predict and evaluate the model\n",
        "y_pred_rf_5 = model_rf_5.predict(X_test_rfe_5)\n",
        "\n",
        "print(\"Random Forest Classification Report:\")\n",
        "print(classification_report(y_test, y_pred_rf_5))\n",
        "\n",
        "# Confusion matrix for Random Forest\n",
        "cm_rf = confusion_matrix(y_test, y_pred_rf_5)\n",
        "plt.figure(figsize=(8, 6))\n",
        "sns.heatmap(cm_rf, annot=True, fmt='d', cmap='Blues', cbar=False)\n",
        "plt.xlabel('Predicted Labels')\n",
        "plt.ylabel('True Labels')\n",
        "plt.title('Confusion Matrix - Random Forest')\n",
        "plt.show()"
      ],
      "metadata": {
        "colab": {
          "base_uri": "https://localhost:8080/",
          "height": 790
        },
        "id": "BHFYF3HcydMg",
        "outputId": "17b85948-d807-48d0-e5a3-4d94113ece01"
      },
      "execution_count": 44,
      "outputs": [
        {
          "output_type": "stream",
          "name": "stdout",
          "text": [
            "Random Forest Classification Report:\n",
            "              precision    recall  f1-score   support\n",
            "\n",
            "           0       0.63      0.77      0.69      1454\n",
            "           1       0.39      0.28      0.33       639\n",
            "           2       0.49      0.44      0.47       998\n",
            "           3       0.44      0.42      0.43       897\n",
            "           4       0.58      0.58      0.58      1063\n",
            "\n",
            "    accuracy                           0.54      5051\n",
            "   macro avg       0.51      0.50      0.50      5051\n",
            "weighted avg       0.53      0.54      0.53      5051\n",
            "\n"
          ]
        },
        {
          "output_type": "display_data",
          "data": {
            "text/plain": [
              "<Figure size 800x600 with 1 Axes>"
            ],
            "image/png": "[encoded data removed]"
          },
          "metadata": {}
        }
      ]
    },
    {
      "cell_type": "code",
      "source": [
        "# Select features based on RFE\n",
        "X_train_rfe_6 = rfe_6.transform(X_train)\n",
        "X_test_rfe_6 = rfe_6.transform(X_test)\n",
        "\n",
        "model_rf_6.fit(X_train_rfe_6,y_train)\n",
        "\n",
        "# Predict and evaluate the model\n",
        "y_pred_rf_6 = model_rf_6.predict(X_test_rfe_6)\n",
        "\n",
        "print(\"Random Forest Classification Report:\")\n",
        "print(classification_report(y_test, y_pred_rf_6))\n",
        "\n",
        "# Confusion matrix for Random Forest\n",
        "cm_rf = confusion_matrix(y_test, y_pred_rf_6)\n",
        "plt.figure(figsize=(8, 6))\n",
        "sns.heatmap(cm_rf, annot=True, fmt='d', cmap='Blues', cbar=False)\n",
        "plt.xlabel('Predicted Labels')\n",
        "plt.ylabel('True Labels')\n",
        "plt.title('Confusion Matrix - Random Forest')\n",
        "plt.show()"
      ],
      "metadata": {
        "colab": {
          "base_uri": "https://localhost:8080/",
          "height": 790
        },
        "id": "nxxy66nsyd7f",
        "outputId": "1f182de3-6e2c-416b-9ad5-dd4915837cf1"
      },
      "execution_count": 45,
      "outputs": [
        {
          "output_type": "stream",
          "name": "stdout",
          "text": [
            "Random Forest Classification Report:\n",
            "              precision    recall  f1-score   support\n",
            "\n",
            "           0       0.62      0.78      0.69      1454\n",
            "           1       0.42      0.28      0.34       639\n",
            "           2       0.49      0.43      0.46       998\n",
            "           3       0.46      0.42      0.44       897\n",
            "           4       0.59      0.61      0.60      1063\n",
            "\n",
            "    accuracy                           0.55      5051\n",
            "   macro avg       0.52      0.50      0.50      5051\n",
            "weighted avg       0.53      0.55      0.54      5051\n",
            "\n"
          ]
        },
        {
          "output_type": "display_data",
          "data": {
            "text/plain": [
              "<Figure size 800x600 with 1 Axes>"
            ],
            "image/png": "[encoded data removed]"
          },
          "metadata": {}
        }
      ]
    },
    {
      "cell_type": "code",
      "source": [
        "# Select features based on RFE\n",
        "X_train_rfe_8 = rfe_8.transform(X_train)\n",
        "X_test_rfe_8 = rfe_8.transform(X_test)\n",
        "\n",
        "model_rf_8.fit(X_train_rfe_8,y_train)\n",
        "\n",
        "# Predict and evaluate the model\n",
        "y_pred_rf_8 = model_rf_8.predict(X_test_rfe_8)\n",
        "\n",
        "print(\"Random Forest Classification Report:\")\n",
        "print(classification_report(y_test, y_pred_rf_8))\n",
        "\n",
        "# Confusion matrix for Random Forest\n",
        "cm_rf = confusion_matrix(y_test, y_pred_rf_8)\n",
        "plt.figure(figsize=(8, 6))\n",
        "sns.heatmap(cm_rf, annot=True, fmt='d', cmap='Blues', cbar=False)\n",
        "plt.xlabel('Predicted Labels')\n",
        "plt.ylabel('True Labels')\n",
        "plt.title('Confusion Matrix - Random Forest')\n",
        "plt.show()"
      ],
      "metadata": {
        "colab": {
          "base_uri": "https://localhost:8080/",
          "height": 790
        },
        "id": "BOsltatBzXXr",
        "outputId": "fe66be76-d4d6-47c0-f60f-2796c55b34a6"
      },
      "execution_count": 46,
      "outputs": [
        {
          "output_type": "stream",
          "name": "stdout",
          "text": [
            "Random Forest Classification Report:\n",
            "              precision    recall  f1-score   support\n",
            "\n",
            "           0       0.61      0.82      0.70      1454\n",
            "           1       0.47      0.29      0.36       639\n",
            "           2       0.52      0.47      0.49       998\n",
            "           3       0.46      0.41      0.43       897\n",
            "           4       0.63      0.61      0.62      1063\n",
            "\n",
            "    accuracy                           0.57      5051\n",
            "   macro avg       0.54      0.52      0.52      5051\n",
            "weighted avg       0.55      0.57      0.55      5051\n",
            "\n"
          ]
        },
        {
          "output_type": "display_data",
          "data": {
            "text/plain": [
              "<Figure size 800x600 with 1 Axes>"
            ],
            "image/png": "[encoded data removed]"
          },
          "metadata": {}
        }
      ]
    },
    {
      "cell_type": "code",
      "source": [
        "# Select features based on RFE\n",
        "X_train_rfe_10 = rfe_10.transform(X_train)\n",
        "X_test_rfe_10 = rfe_10.transform(X_test)\n",
        "\n",
        "model_rf_10.fit(X_train_rfe_10,y_train)\n",
        "\n",
        "# Predict and evaluate the model\n",
        "y_pred_rf_10 = model_rf_10.predict(X_test_rfe_10)\n",
        "\n",
        "print(\"Random Forest Classification Report:\")\n",
        "print(classification_report(y_test, y_pred_rf_10))\n",
        "\n",
        "# Confusion matrix for Random Forest\n",
        "cm_rf = confusion_matrix(y_test, y_pred_rf_10)\n",
        "plt.figure(figsize=(8, 6))\n",
        "sns.heatmap(cm_rf, annot=True, fmt='d', cmap='Blues', cbar=False)\n",
        "plt.xlabel('Predicted Labels')\n",
        "plt.ylabel('True Labels')\n",
        "plt.title('Confusion Matrix - Random Forest')\n",
        "plt.show()"
      ],
      "metadata": {
        "colab": {
          "base_uri": "https://localhost:8080/",
          "height": 790
        },
        "id": "mz-RcJXLze5l",
        "outputId": "26197e66-ca5d-4a45-8f48-9a1c5e7ba42b"
      },
      "execution_count": 47,
      "outputs": [
        {
          "output_type": "stream",
          "name": "stdout",
          "text": [
            "Random Forest Classification Report:\n",
            "              precision    recall  f1-score   support\n",
            "\n",
            "           0       0.62      0.80      0.70      1454\n",
            "           1       0.46      0.30      0.36       639\n",
            "           2       0.54      0.48      0.51       998\n",
            "           3       0.47      0.44      0.45       897\n",
            "           4       0.66      0.63      0.65      1063\n",
            "\n",
            "    accuracy                           0.57      5051\n",
            "   macro avg       0.55      0.53      0.53      5051\n",
            "weighted avg       0.56      0.57      0.56      5051\n",
            "\n"
          ]
        },
        {
          "output_type": "display_data",
          "data": {
            "text/plain": [
              "<Figure size 800x600 with 1 Axes>"
            ],
            "image/png": "[encoded data removed]"
          },
          "metadata": {}
        }
      ]
    },
    {
      "cell_type": "code",
      "source": [
        "# Select features based on RFE\n",
        "X_train_rfe_15 = rfe_15.transform(X_train)\n",
        "X_test_rfe_15 = rfe_15.transform(X_test)\n",
        "\n",
        "model_rf_15.fit(X_train_rfe_15,y_train)\n",
        "\n",
        "# Predict and evaluate the model\n",
        "y_pred_rf_15 = model_rf_15.predict(X_test_rfe_15)\n",
        "\n",
        "print(\"Random Forest Classification Report:\")\n",
        "print(classification_report(y_test, y_pred_rf_15))\n",
        "\n",
        "# Confusion matrix for Random Forest\n",
        "cm_rf = confusion_matrix(y_test, y_pred_rf_15)\n",
        "plt.figure(figsize=(8, 6))\n",
        "sns.heatmap(cm_rf, annot=True, fmt='d', cmap='Blues', cbar=False)\n",
        "plt.xlabel('Predicted Labels')\n",
        "plt.ylabel('True Labels')\n",
        "plt.title('Confusion Matrix - Random Forest')\n",
        "plt.show()"
      ],
      "metadata": {
        "colab": {
          "base_uri": "https://localhost:8080/",
          "height": 790
        },
        "id": "4R-r-Wdqzmvl",
        "outputId": "c1a28736-a024-4fc0-afbe-f94b29738713"
      },
      "execution_count": 48,
      "outputs": [
        {
          "output_type": "stream",
          "name": "stdout",
          "text": [
            "Random Forest Classification Report:\n",
            "              precision    recall  f1-score   support\n",
            "\n",
            "           0       0.65      0.85      0.74      1454\n",
            "           1       0.51      0.31      0.38       639\n",
            "           2       0.56      0.52      0.54       998\n",
            "           3       0.49      0.44      0.46       897\n",
            "           4       0.68      0.66      0.67      1063\n",
            "\n",
            "    accuracy                           0.60      5051\n",
            "   macro avg       0.58      0.56      0.56      5051\n",
            "weighted avg       0.59      0.60      0.59      5051\n",
            "\n"
          ]
        },
        {
          "output_type": "display_data",
          "data": {
            "text/plain": [
              "<Figure size 800x600 with 1 Axes>"
            ],
            "image/png": "[encoded data removed]"
          },
          "metadata": {}
        }
      ]
    },
    {
      "cell_type": "code",
      "source": [
        "# Select features based on RFE\n",
        "X_train_rfe_18 = rfe_18.transform(X_train)\n",
        "X_test_rfe_18 = rfe_18.transform(X_test)\n",
        "\n",
        "model_rf_18.fit(X_train_rfe_18,y_train)\n",
        "\n",
        "# Predict and evaluate the model\n",
        "y_pred_rf_18 = model_rf_18.predict(X_test_rfe_18)\n",
        "\n",
        "print(\"Random Forest Classification Report:\")\n",
        "print(classification_report(y_test, y_pred_rf_18))\n",
        "\n",
        "# Confusion matrix for Random Forest\n",
        "cm_rf = confusion_matrix(y_test, y_pred_rf_18)\n",
        "plt.figure(figsize=(8, 6))\n",
        "sns.heatmap(cm_rf, annot=True, fmt='d', cmap='Blues', cbar=False)\n",
        "plt.xlabel('Predicted Labels')\n",
        "plt.ylabel('True Labels')\n",
        "plt.title('Confusion Matrix - Random Forest')\n",
        "plt.show()"
      ],
      "metadata": {
        "colab": {
          "base_uri": "https://localhost:8080/",
          "height": 790
        },
        "id": "P77K1w7F1Ws_",
        "outputId": "7c2b15f3-df92-47ab-bff6-5c3f5903d61d"
      },
      "execution_count": 51,
      "outputs": [
        {
          "output_type": "stream",
          "name": "stdout",
          "text": [
            "Random Forest Classification Report:\n",
            "              precision    recall  f1-score   support\n",
            "\n",
            "           0       0.66      0.86      0.75      1454\n",
            "           1       0.49      0.31      0.38       639\n",
            "           2       0.56      0.51      0.53       998\n",
            "           3       0.47      0.44      0.45       897\n",
            "           4       0.68      0.65      0.67      1063\n",
            "\n",
            "    accuracy                           0.60      5051\n",
            "   macro avg       0.57      0.55      0.56      5051\n",
            "weighted avg       0.59      0.60      0.59      5051\n",
            "\n"
          ]
        },
        {
          "output_type": "display_data",
          "data": {
            "text/plain": [
              "<Figure size 800x600 with 1 Axes>"
            ],
            "image/png": "[encoded data removed]"
          },
          "metadata": {}
        }
      ]
    },
    {
      "cell_type": "code",
      "source": [
        "# Select features based on RFE\n",
        "X_train_rfe_20 = rfe_20.transform(X_train)\n",
        "X_test_rfe_20 = rfe_20.transform(X_test)\n",
        "\n",
        "model_rf_20.fit(X_train_rfe_20,y_train)\n",
        "\n",
        "# Predict and evaluate the model\n",
        "y_pred_rf_20 = model_rf_20.predict(X_test_rfe_20)\n",
        "\n",
        "print(\"Random Forest Classification Report:\")\n",
        "print(classification_report(y_test, y_pred_rf_20))\n",
        "\n",
        "# Confusion matrix for Random Forest\n",
        "cm_rf = confusion_matrix(y_test, y_pred_rf_20)\n",
        "plt.figure(figsize=(8, 6))\n",
        "sns.heatmap(cm_rf, annot=True, fmt='d', cmap='Blues', cbar=False)\n",
        "plt.xlabel('Predicted Labels')\n",
        "plt.ylabel('True Labels')\n",
        "plt.title('Confusion Matrix - Random Forest')\n",
        "plt.show()"
      ],
      "metadata": {
        "colab": {
          "base_uri": "https://localhost:8080/",
          "height": 790
        },
        "id": "jQ79SXai1ek0",
        "outputId": "a1a63bc0-4757-49fe-ab56-cde2d719b261"
      },
      "execution_count": 52,
      "outputs": [
        {
          "output_type": "stream",
          "name": "stdout",
          "text": [
            "Random Forest Classification Report:\n",
            "              precision    recall  f1-score   support\n",
            "\n",
            "           0       0.66      0.85      0.74      1454\n",
            "           1       0.50      0.31      0.38       639\n",
            "           2       0.54      0.50      0.52       998\n",
            "           3       0.50      0.45      0.47       897\n",
            "           4       0.70      0.68      0.69      1063\n",
            "\n",
            "    accuracy                           0.61      5051\n",
            "   macro avg       0.58      0.56      0.56      5051\n",
            "weighted avg       0.60      0.61      0.59      5051\n",
            "\n"
          ]
        },
        {
          "output_type": "display_data",
          "data": {
            "text/plain": [
              "<Figure size 800x600 with 1 Axes>"
            ],
            "image/png": "[encoded data removed]"
          },
          "metadata": {}
        }
      ]
    },
    {
      "cell_type": "code",
      "source": [
        "# Get the ranking of the features\n",
        "ranking = rfe_20.ranking_\n",
        "feature_names = X.columns\n",
        "\n",
        "print(\"Feature ranking:\")\n",
        "for i in range(X_train.shape[1]):\n",
        "    print(f\"{feature_names[i]}: {ranking[i]}\")"
      ],
      "metadata": {
        "colab": {
          "base_uri": "https://localhost:8080/"
        },
        "id": "UEQ12O41u_Kb",
        "outputId": "f74e5765-ebb6-4370-f2cb-4e215a795950"
      },
      "execution_count": 19,
      "outputs": [
        {
          "output_type": "stream",
          "name": "stdout",
          "text": [
            "Feature ranking:\n",
            "Type: 22\n",
            "Breed: 2\n",
            "Color: 1\n",
            "Sex: 13\n",
            "Size: 10\n",
            "Kennel_Number: 1\n",
            "Intake_Type: 11\n",
            "Intake_Subtype: 7\n",
            "Intake_Condition: 8\n",
            "Intake_Jurisdiction: 15\n",
            "Multiple_Visit_Count: 17\n",
            "Age_inDays_at_Outcome: 1\n",
            "Age_Group: 19\n",
            "Is_Aggressive: 20\n",
            "Has_Name: 9\n",
            "Is_Fixed: 16\n",
            "Is_Mixed_Breed: 21\n",
            "Is_Multicolor: 18\n",
            "Color_Embedding_Cluster: 12\n",
            "Breed_Embedding_Cluster: 14\n",
            "intake_year: 4\n",
            "intake_month: 3\n",
            "intake_day: 1\n",
            "birth_year: 6\n",
            "birth_month: 5\n",
            "birth_day: 1\n"
          ]
        }
      ]
    },
    {
      "cell_type": "code",
      "source": [],
      "metadata": {
        "id": "QRF7JityvHPX"
      },
      "execution_count": 20,
      "outputs": []
    },
    {
      "cell_type": "code",
      "source": [
        "# Define a pipeline combining RFE with a classifier\n",
        "def create_pipeline(model):\n",
        "    return Pipeline([\n",
        "        ('scaler', StandardScaler()),\n",
        "        ('rfe', RFE(estimator=RandomForestClassifier(), n_features_to_select=5, step=1)),\n",
        "        ('classifier', model)\n",
        "    ])\n",
        "\n",
        "# Define parameter grid for RandomForest (example)\n",
        "param_grid_rf = {\n",
        "    'classifier__n_estimators': [100, 200, 300],\n",
        "    'classifier__max_depth': [None, 10, 20, 30],\n",
        "    'classifier__min_samples_split': [2, 5, 10],\n",
        "    'classifier__min_samples_leaf': [1, 2, 4],\n",
        "    'classifier__bootstrap': [True, False]\n",
        "}\n",
        "\n",
        "# Define parameter grids for other models if needed\n",
        "param_grid_xgb = {\n",
        "    'classifier__n_estimators': [100, 200, 300],\n",
        "    'classifier__max_depth': [3, 6, 9],\n",
        "    'classifier__learning_rate': [0.01, 0.1, 0.2]\n",
        "}\n",
        "\n",
        "param_grid_gb = {\n",
        "    'classifier__n_estimators': [100, 200, 300],\n",
        "    'classifier__max_depth': [3, 4, 5],\n",
        "    'classifier__learning_rate': [0.01, 0.1, 0.2]\n",
        "}\n",
        "\n",
        "param_grid_lr = {\n",
        "    'classifier__C': [0.01, 0.1, 1, 10, 100],\n",
        "    'classifier__solver': ['liblinear', 'saga']\n",
        "}\n",
        "\n",
        "# Models to try\n",
        "models = {\n",
        "    'RandomForest': (RandomForestClassifier(random_state=42), param_grid_rf),\n",
        "    'GradientBoosting': (GradientBoostingClassifier(random_state=42), param_grid_gb),\n",
        "    'XGBoost': (XGBClassifier(random_state=42), param_grid_xgb),\n",
        "    'LogisticRegression': (LogisticRegression(max_iter=1000, random_state=42), param_grid_lr)\n",
        "}\n",
        "\n",
        "best_models = {}\n",
        "for model_name, (model, param_grid) in models.items():\n",
        "    pipeline = create_pipeline(model)\n",
        "    grid_search = GridSearchCV(pipeline, param_grid, cv=3, n_jobs=-1, verbose=2)\n",
        "    grid_search.fit(X_train, y_train)\n",
        "    best_models[model_name] = grid_search.best_estimator_\n",
        "    print(f\"Best parameters found for {model_name}: \", grid_search.best_params_)\n",
        "\n",
        "# Evaluate the best models\n",
        "for model_name, model in best_models.items():\n",
        "    y_pred = model.predict(X_test)\n",
        "    print(f\"{model_name} Classification Report:\")\n",
        "    print(classification_report(y_test, y_pred))\n",
        "    cm = confusion_matrix(y_test, y_pred)\n",
        "    plt.figure(figsize=(8, 6))\n",
        "    sns.heatmap(cm, annot=True, fmt='d', cmap='Blues', cbar=False)\n",
        "    plt.xlabel('Predicted Labels')\n",
        "    plt.ylabel('True Labels')\n",
        "    plt.title(f'Confusion Matrix - {model_name}')\n",
        "    plt.show()"
      ],
      "metadata": {
        "colab": {
          "base_uri": "https://localhost:8080/"
        },
        "id": "0ErmHAqnvJGJ",
        "outputId": "5c28ff52-724d-4afe-ddcc-ff1ca73b770a"
      },
      "execution_count": null,
      "outputs": [
        {
          "output_type": "stream",
          "name": "stdout",
          "text": [
            "Fitting 3 folds for each of 216 candidates, totalling 648 fits\n"
          ]
        }
      ]
    }
  ],
  "metadata": {
    "kernelspec": {
      "display_name": "base",
      "language": "python",
      "name": "python3"
    },
    "language_info": {
      "codemirror_mode": {
        "name": "ipython",
        "version": 3
      },
      "file_extension": ".py",
      "mimetype": "text/x-python",
      "name": "python",
      "nbconvert_exporter": "python",
      "pygments_lexer": "ipython3",
      "version": "3.9.17"
    },
    "colab": {
      "provenance": []
    }
  },
  "nbformat": 4,
  "nbformat_minor": 0
}