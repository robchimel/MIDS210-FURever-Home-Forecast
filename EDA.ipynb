{
 "cells": [
  {
   "cell_type": "code",
   "execution_count": 1,
   "metadata": {},
   "outputs": [],
   "source": [
    "import pandas as pd\n",
    "import matplotlib.pyplot as plt\n",
    "import numpy as np\n",
    "from utils import *"
   ]
  },
  {
   "cell_type": "code",
   "execution_count": 2,
   "metadata": {},
   "outputs": [],
   "source": [
    "df = pd.read_csv('Animal_Shelter_Intake_and_Outcome_20240517.csv')"
   ]
  },
  {
   "cell_type": "code",
   "execution_count": 3,
   "metadata": {},
   "outputs": [
    {
     "name": "stdout",
     "output_type": "stream",
     "text": [
      "Date Of Birth is NOT A STRING\n",
      "Intake Date is NOT A STRING\n",
      "Outcome Date is NOT A STRING\n",
      "Days in Shelter is NOT A STRING\n",
      "Count is NOT A STRING\n",
      "replace null values in Name with 'Unknown'\n",
      "replace null values in Size with 'Unknown'\n",
      "replace null values in Outcome_Type with 'Unknown'\n",
      "replace null values in Outcome_Subtype with 'Unknown'\n",
      "replace null values in Outcome_Condition with 'Unknown'\n",
      "replace null values in Outcome_Jurisdiction with 'Unknown'\n",
      "replace null values in Outcome_Zip_Code with 'Unknown'\n",
      "replace null values in Location with 'Unknown'\n"
     ]
    }
   ],
   "source": [
    "df_clean = load_df()"
   ]
  },
  {
   "cell_type": "code",
   "execution_count": null,
   "metadata": {},
   "outputs": [],
   "source": [
    "df[['Intake Date',\n",
    "       'Outcome Date', 'Days in Shelter', 'Intake Type', ]].head(10)"
   ]
  },
  {
   "cell_type": "code",
   "execution_count": null,
   "metadata": {},
   "outputs": [],
   "source": [
    "df.columns"
   ]
  },
  {
   "cell_type": "code",
   "execution_count": null,
   "metadata": {},
   "outputs": [],
   "source": [
    "df[df['Animal ID'].duplicated()]"
   ]
  },
  {
   "cell_type": "code",
   "execution_count": null,
   "metadata": {},
   "outputs": [],
   "source": [
    "df.info()"
   ]
  },
  {
   "cell_type": "code",
   "execution_count": null,
   "metadata": {},
   "outputs": [],
   "source": [
    "df.columns"
   ]
  },
  {
   "cell_type": "code",
   "execution_count": null,
   "metadata": {},
   "outputs": [],
   "source": [
    "print(df.Count.dtype)"
   ]
  },
  {
   "cell_type": "markdown",
   "metadata": {},
   "source": [
    "## Lets remove spaces to make coding easier"
   ]
  },
  {
   "cell_type": "code",
   "execution_count": null,
   "metadata": {},
   "outputs": [],
   "source": [
    "col_list = []\n",
    "for col in df.columns:\n",
    "    col = col.replace(' ', '_')\n",
    "    col_list.append(col)\n",
    "df.columns = col_list\n",
    "df.columns"
   ]
  },
  {
   "cell_type": "markdown",
   "metadata": {},
   "source": [
    "## What should we do with missing data?"
   ]
  },
  {
   "cell_type": "code",
   "execution_count": null,
   "metadata": {},
   "outputs": [],
   "source": [
    "total_null = 0\n",
    "for col in df.columns:\n",
    "    null_count = df[col][df[col].isnull()].shape[0]\n",
    "    if null_count!= 0:\n",
    "        print(f'{col} has null rows: {null_count}')\n",
    "        total_null += null_count\n",
    "print(f'\\nthere are {total_null} missing values')"
   ]
  },
  {
   "cell_type": "markdown",
   "metadata": {},
   "source": [
    "## days in shelter is right skewed"
   ]
  },
  {
   "cell_type": "code",
   "execution_count": null,
   "metadata": {},
   "outputs": [],
   "source": [
    "df.describe()"
   ]
  },
  {
   "cell_type": "code",
   "execution_count": null,
   "metadata": {},
   "outputs": [],
   "source": [
    "df.Days_in_Shelter.plot.hist()"
   ]
  },
  {
   "cell_type": "markdown",
   "metadata": {},
   "source": [
    "## Animal Gender"
   ]
  },
  {
   "cell_type": "code",
   "execution_count": null,
   "metadata": {},
   "outputs": [],
   "source": [
    "df.Sex.unique()"
   ]
  },
  {
   "cell_type": "markdown",
   "metadata": {},
   "source": [
    "## Animal Breed"
   ]
  },
  {
   "cell_type": "code",
   "execution_count": null,
   "metadata": {},
   "outputs": [],
   "source": [
    "print(f'there are {len(df.Breed.unique())} unique breeds')\n",
    "cat_breed_count = len(df.Breed[df.Type=='CAT'].unique())\n",
    "print(f'cat breeds: {cat_breed_count}')\n",
    "dog_breed_count = len(df.Breed[df.Type=='DOG'].unique())\n",
    "print(f'dog breeds: {dog_breed_count}')\n",
    "Other_breed_count = len(df.Breed[df.Type=='OTHER'].unique())\n",
    "print(f'other breeds: {Other_breed_count}')"
   ]
  },
  {
   "cell_type": "code",
   "execution_count": null,
   "metadata": {},
   "outputs": [],
   "source": [
    "df.Type.value_counts()"
   ]
  },
  {
   "cell_type": "code",
   "execution_count": null,
   "metadata": {},
   "outputs": [],
   "source": [
    "df[df.Type=='CAT'].Breed.value_counts()[0:8].plot.bar()\n",
    "plt.title('CAT Breeds')"
   ]
  },
  {
   "cell_type": "code",
   "execution_count": null,
   "metadata": {},
   "outputs": [],
   "source": [
    "df[df.Type=='DOG'].Breed.value_counts()[0:15].plot.bar()\n",
    "plt.title('DOG Breeds')"
   ]
  },
  {
   "cell_type": "markdown",
   "metadata": {},
   "source": [
    "## Animal Type"
   ]
  },
  {
   "cell_type": "code",
   "execution_count": null,
   "metadata": {},
   "outputs": [],
   "source": [
    "df.Type.unique()"
   ]
  },
  {
   "cell_type": "markdown",
   "metadata": {},
   "source": [
    "### What is the other type?"
   ]
  },
  {
   "cell_type": "code",
   "execution_count": null,
   "metadata": {},
   "outputs": [],
   "source": [
    "df[df.Type=='OTHER'].Breed.unique()"
   ]
  },
  {
   "cell_type": "markdown",
   "metadata": {},
   "source": [
    "### I think we should ignore other, all these different animal types add a lot of noise to the data"
   ]
  },
  {
   "cell_type": "markdown",
   "metadata": {},
   "source": [
    "## Animal Size"
   ]
  },
  {
   "cell_type": "code",
   "execution_count": null,
   "metadata": {},
   "outputs": [],
   "source": [
    "df[df.Type=='CAT'].Size.value_counts().plot.bar()\n",
    "plt.title('CAT Sizes')"
   ]
  },
  {
   "cell_type": "code",
   "execution_count": null,
   "metadata": {},
   "outputs": [],
   "source": [
    "df[df.Type=='DOG'].Size.value_counts().plot.bar()\n",
    "plt.title('DOG Sizes')"
   ]
  },
  {
   "cell_type": "markdown",
   "metadata": {},
   "source": [
    "## What colors do we have?"
   ]
  },
  {
   "cell_type": "code",
   "execution_count": null,
   "metadata": {},
   "outputs": [],
   "source": [
    "print(f'there are {len(df.Color.unique())} unique colors')\n",
    "breed_color = len(df.Color[df.Type=='CAT'].unique())\n",
    "print(f'cat colors: {breed_color}')\n",
    "breed_color = len(df.Color[df.Type=='DOG'].unique())\n",
    "print(f'dog colors: {breed_color}')\n",
    "breed_color = len(df.Color[df.Type=='OTHER'].unique())\n",
    "print(f'other colors: {breed_color}')\n",
    "print()\n",
    "print(df.Color.value_counts())"
   ]
  },
  {
   "cell_type": "code",
   "execution_count": null,
   "metadata": {},
   "outputs": [],
   "source": [
    "df[df.Type=='DOG'].Color.value_counts()[:20].plot.bar()\n",
    "plt.title('DOG colors')"
   ]
  },
  {
   "cell_type": "code",
   "execution_count": null,
   "metadata": {},
   "outputs": [],
   "source": [
    "df[df.Type=='CAT'].Color.value_counts()[:20].plot.bar()\n",
    "plt.title('cat colors')"
   ]
  },
  {
   "cell_type": "markdown",
   "metadata": {},
   "source": [
    "## Intake Type is skewed"
   ]
  },
  {
   "cell_type": "code",
   "execution_count": null,
   "metadata": {},
   "outputs": [],
   "source": [
    "df.Intake_Type.value_counts().plot.bar()\n",
    "plt.title('intake type')"
   ]
  },
  {
   "cell_type": "code",
   "execution_count": null,
   "metadata": {},
   "outputs": [],
   "source": [
    "df.Intake_Subtype.value_counts().plot.bar()\n",
    "plt.title('intake subtype')"
   ]
  },
  {
   "cell_type": "markdown",
   "metadata": {},
   "source": [
    "## Most animals are not euthanized, but there are still a lot of animals in this category"
   ]
  },
  {
   "cell_type": "code",
   "execution_count": null,
   "metadata": {},
   "outputs": [],
   "source": [
    "df.Outcome_Type.value_counts().plot.bar()\n",
    "plt.title('Outcome type')"
   ]
  },
  {
   "cell_type": "markdown",
   "metadata": {},
   "source": [
    "## outcome subtype has so many options. could be interesting to use NLP here"
   ]
  },
  {
   "cell_type": "code",
   "execution_count": null,
   "metadata": {},
   "outputs": [],
   "source": [
    "len(df.Outcome_Subtype.unique())"
   ]
  },
  {
   "cell_type": "code",
   "execution_count": null,
   "metadata": {},
   "outputs": [],
   "source": [
    "df.Outcome_Subtype.value_counts()[:20].plot.bar()\n",
    "plt.title('Outcome subtype')"
   ]
  },
  {
   "cell_type": "markdown",
   "metadata": {},
   "source": [
    "## most animals come in healthy, when is condition be unknown?"
   ]
  },
  {
   "cell_type": "code",
   "execution_count": null,
   "metadata": {},
   "outputs": [],
   "source": [
    "df.Intake_Condition.value_counts()[:20].plot.bar()\n",
    "plt.title('Intake_Condition')"
   ]
  },
  {
   "cell_type": "markdown",
   "metadata": {},
   "source": [
    "## it appears going to a shelter usually improves health"
   ]
  },
  {
   "cell_type": "markdown",
   "metadata": {},
   "source": [
    "what does pending mean?"
   ]
  },
  {
   "cell_type": "code",
   "execution_count": null,
   "metadata": {},
   "outputs": [],
   "source": [
    "df.Outcome_Condition.value_counts()[:20].plot.bar()\n",
    "plt.title('Outcome_Condition')"
   ]
  },
  {
   "cell_type": "code",
   "execution_count": null,
   "metadata": {},
   "outputs": [],
   "source": [
    "df.columns\n"
   ]
  },
  {
   "cell_type": "code",
   "execution_count": null,
   "metadata": {},
   "outputs": [],
   "source": [
    "df.Intake_Jurisdiction.unique()"
   ]
  },
  {
   "cell_type": "code",
   "execution_count": null,
   "metadata": {},
   "outputs": [],
   "source": [
    "df.Outcome_Jurisdiction.unique()"
   ]
  },
  {
   "cell_type": "code",
   "execution_count": null,
   "metadata": {},
   "outputs": [],
   "source": [
    "df[df.Outcome_Jurisdiction != df.Intake_Jurisdiction]"
   ]
  },
  {
   "cell_type": "markdown",
   "metadata": {},
   "source": [
    "## Thoughts\n",
    "There are many categories for breed, color and outcome subtype. Perhaps too many. We may need to feature engineer these columns to group similar colors"
   ]
  },
  {
   "cell_type": "markdown",
   "metadata": {},
   "source": []
  }
 ],
 "metadata": {
  "kernelspec": {
   "display_name": "base",
   "language": "python",
   "name": "python3"
  },
  "language_info": {
   "codemirror_mode": {
    "name": "ipython",
    "version": 3
   },
   "file_extension": ".py",
   "mimetype": "text/x-python",
   "name": "python",
   "nbconvert_exporter": "python",
   "pygments_lexer": "ipython3",
   "version": "3.8.18"
  }
 },
 "nbformat": 4,
 "nbformat_minor": 2
}
