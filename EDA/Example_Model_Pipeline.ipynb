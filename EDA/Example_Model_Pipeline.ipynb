{
 "cells": [
  {
   "cell_type": "code",
   "execution_count": 1,
   "metadata": {},
   "outputs": [],
   "source": [
    "from utils import *\n",
    "from sklearn.pipeline import Pipeline\n",
    "# from sklearn.ensemble import RandomForestClassifier\n",
    "from xgboost import XGBClassifier\n",
    "from sklearn.metrics import classification_report\n",
    "import pickle"
   ]
  },
  {
   "cell_type": "markdown",
   "metadata": {},
   "source": [
    "# Load Data"
   ]
  },
  {
   "cell_type": "code",
   "execution_count": 2,
   "metadata": {},
   "outputs": [
    {
     "name": "stdout",
     "output_type": "stream",
     "text": [
      "Intake Date is NOT A STRING\n",
      "Outcome Date is NOT A STRING\n",
      "replace null values in Name with 'Unknown'\n",
      "replace null values in Date_Of_Birth with 'Unknown'\n",
      "Date Of Birth is NOT A STRING\n",
      "replace null values in Outcome_Type with 'Unknown'\n",
      "replace null values in Intake_Subtype with 'Unknown'\n",
      "replace null values in Outcome_Subtype with 'Unknown'\n",
      "replace null values in Outcome_Condition with 'Unknown'\n",
      "Intake Date is NOT A STRING\n",
      "Outcome Date is NOT A STRING\n",
      "Days in Shelter is NOT A STRING\n",
      "Count is NOT A STRING\n",
      "replace null values in Name with 'Unknown'\n",
      "replace null values in Size with 'Unknown'\n",
      "replace null values in Outcome_Type with 'Unknown'\n",
      "replace null values in Outcome_Subtype with 'Unknown'\n",
      "replace null values in Outcome_Condition with 'Unknown'\n",
      "replace null values in Outcome_Jurisdiction with 'Unknown'\n",
      "replace null values in Outcome_Zip_Code with 'Unknown'\n",
      "replace null values in Location with 'Unknown'\n"
     ]
    },
    {
     "name": "stderr",
     "output_type": "stream",
     "text": [
      "/Users/jessicahuber/source/capstone2/load_Austin.py:134: SettingWithCopyWarning: \n",
      "A value is trying to be set on a copy of a slice from a DataFrame\n",
      "\n",
      "See the caveats in the documentation: https://pandas.pydata.org/pandas-docs/stable/user_guide/indexing.html#returning-a-view-versus-a-copy\n",
      "  df['Date Of Birth'].fillna('01/01/1900', inplace=True)\n"
     ]
    },
    {
     "name": "stdout",
     "output_type": "stream",
     "text": [
      "Date Of Birth is NOT A STRING\n",
      "Intake Date is NOT A STRING\n",
      "Outcome Date is NOT A STRING\n",
      "Days in Shelter is NOT A STRING\n",
      "replace null values in Name with 'Unknown'\n",
      "replace null values in Outcome_Subtype with 'Unknown'\n",
      "replace null values in Size with 'Unknown'\n",
      "replace null values in Date_Of_Birth with 'Unknown'\n",
      "replace null values in Impound_Number with 'Unknown'\n",
      "replace null values in Kennel_Number with 'Unknown'\n",
      "replace null values in Animal_ID with 'Unknown'\n",
      "replace null values in Intake_Type with 'Unknown'\n",
      "replace null values in Intake_Subtype with 'Unknown'\n",
      "replace null values in Outcome_Condition with 'Unknown'\n",
      "replace null values in Intake_Jurisdiction with 'Unknown'\n",
      "replace null values in Outcome_Jurisdiction with 'Unknown'\n",
      "replace null values in Outcome_Zip_Code with 'Unknown'\n",
      "replace null values in Location with 'Unknown'\n",
      "replace null values in Multiple_Visit_Count with 'np.nan'\n",
      "replace null values in Age_inDays_at_Income with 'np.nan'\n",
      "replace null values in Age_Group with 'Unknown'\n",
      "replace null values in Is_Aggressive with 'np.nan'\n",
      "replace null values in Is_Mixed_Breed with 'np.nan'\n",
      "replace null values in Is_Multicolor with 'np.nan'\n",
      "replace null values in Birth_Year with 'np.nan'\n",
      "replace null values in Birth_Month with 'np.nan'\n",
      "replace null values in Birth_Day with 'np.nan'\n"
     ]
    },
    {
     "name": "stderr",
     "output_type": "stream",
     "text": [
      "/Users/jessicahuber/anaconda3/envs/datasci-207/lib/python3.9/site-packages/sklearn/cluster/_kmeans.py:870: FutureWarning: The default value of `n_init` will change from 10 to 'auto' in 1.4. Set the value of `n_init` explicitly to suppress the warning\n",
      "  warnings.warn(\n",
      "/Users/jessicahuber/anaconda3/envs/datasci-207/lib/python3.9/site-packages/sklearn/cluster/_kmeans.py:870: FutureWarning: The default value of `n_init` will change from 10 to 'auto' in 1.4. Set the value of `n_init` explicitly to suppress the warning\n",
      "  warnings.warn(\n",
      "/Users/jessicahuber/anaconda3/envs/datasci-207/lib/python3.9/site-packages/sklearn/cluster/_kmeans.py:870: FutureWarning: The default value of `n_init` will change from 10 to 'auto' in 1.4. Set the value of `n_init` explicitly to suppress the warning\n",
      "  warnings.warn(\n"
     ]
    }
   ],
   "source": [
    "params = {\n",
    "        'na_data': 'fill',\n",
    "        'drop_outlier_days': 300,\n",
    "        'embed':True,\n",
    "        'buckets':[-1,3,14,30,100,99999999],\n",
    "        'sample_dict':\n",
    "            {\n",
    "            'stratify_col':'Type',\n",
    "            'train_size':0.6, 'validate_size':0.2, 'test_size':0.2\n",
    "            }\n",
    "        }\n",
    "train_df, validate_df, test_df = load_df(params)\n",
    "train_df = train_df[train_df.dataset=='Sonoma']\n",
    "validate_df = validate_df[validate_df.dataset=='Sonoma']\n",
    "test_df = test_df[test_df.dataset=='Sonoma']"
   ]
  },
  {
   "cell_type": "markdown",
   "metadata": {},
   "source": [
    "# Create Preprocessor"
   ]
  },
  {
   "cell_type": "code",
   "execution_count": 3,
   "metadata": {},
   "outputs": [],
   "source": [
    "preprocessor, X_train, y_train, X_test, y_test, label_encoder_transformer = sklearn_pipeline(train_df, validate_df)"
   ]
  },
  {
   "cell_type": "markdown",
   "metadata": {},
   "source": [
    "# Create Pipeline"
   ]
  },
  {
   "cell_type": "code",
   "execution_count": 12,
   "metadata": {},
   "outputs": [],
   "source": [
    "# Create the pipeline with the preprocessor and the RandomForestClassifier\n",
    "best_params = {'colsample_bytree': 0.9, 'learning_rate': 0.1, 'max_depth': 7, 'n_estimators': 300, 'subsample': 0.8}\n",
    "XGBpipeline = Pipeline(steps=[\n",
    "    ('preprocessor', preprocessor),\n",
    "    ('classifier', XGBClassifier(random_state=42, **best_params))\n",
    "])"
   ]
  },
  {
   "cell_type": "markdown",
   "metadata": {},
   "source": [
    "# Train Model"
   ]
  },
  {
   "cell_type": "code",
   "execution_count": 13,
   "metadata": {},
   "outputs": [
    {
     "name": "stdout",
     "output_type": "stream",
     "text": [
      "fit_transform\n",
      "fit\n",
      "transform\n",
      "transform\n",
      "              precision    recall  f1-score   support\n",
      "\n",
      "           0       0.78      0.88      0.82      1894\n",
      "           1       0.58      0.56      0.57      1301\n",
      "           2       0.50      0.44      0.47       944\n",
      "           3       0.62      0.60      0.61       884\n",
      "           4       0.58      0.14      0.23        97\n",
      "\n",
      "    accuracy                           0.66      5120\n",
      "   macro avg       0.61      0.53      0.54      5120\n",
      "weighted avg       0.64      0.66      0.65      5120\n",
      "\n"
     ]
    }
   ],
   "source": [
    "# Train the model\n",
    "XGBpipeline.fit(X_train, y_train)\n",
    "# Predict on the test data\n",
    "y_pred = XGBpipeline.predict(X_test)\n",
    "# Evaluate the model\n",
    "print(classification_report(y_test, y_pred))"
   ]
  },
  {
   "cell_type": "markdown",
   "metadata": {},
   "source": [
    "### Save Model Pipeline"
   ]
  },
  {
   "cell_type": "code",
   "execution_count": 14,
   "metadata": {},
   "outputs": [],
   "source": [
    "with open('XGBpipeline.pkl', 'wb') as file:\n",
    "    pickle.dump(XGBpipeline, file)"
   ]
  },
  {
   "cell_type": "markdown",
   "metadata": {},
   "source": [
    "### Load Model Pipeline"
   ]
  },
  {
   "cell_type": "code",
   "execution_count": 15,
   "metadata": {},
   "outputs": [],
   "source": [
    "with open('XGBpipeline.pkl', 'rb') as file:\n",
    "    test_pipeline = pickle.load(file)"
   ]
  },
  {
   "cell_type": "code",
   "execution_count": 16,
   "metadata": {},
   "outputs": [
    {
     "name": "stdout",
     "output_type": "stream",
     "text": [
      "transform\n",
      "              precision    recall  f1-score   support\n",
      "\n",
      "           0       0.78      0.88      0.82      1894\n",
      "           1       0.58      0.56      0.57      1301\n",
      "           2       0.50      0.44      0.47       944\n",
      "           3       0.62      0.60      0.61       884\n",
      "           4       0.58      0.14      0.23        97\n",
      "\n",
      "    accuracy                           0.66      5120\n",
      "   macro avg       0.61      0.53      0.54      5120\n",
      "weighted avg       0.64      0.66      0.65      5120\n",
      "\n"
     ]
    }
   ],
   "source": [
    "# Predict on the test data\n",
    "y_pred = test_pipeline.predict(X_test)\n",
    "# Evaluate the model\n",
    "print(classification_report(y_test, y_pred))"
   ]
  },
  {
   "cell_type": "markdown",
   "metadata": {},
   "source": [
    "# TEST Model with API"
   ]
  },
  {
   "cell_type": "code",
   "execution_count": 17,
   "metadata": {},
   "outputs": [
    {
     "name": "stderr",
     "output_type": "stream",
     "text": [
      "WARNING:root:Requests made without an app_token will be subject to strict throttling limits.\n"
     ]
    },
    {
     "name": "stdout",
     "output_type": "stream",
     "text": [
      "Date Of Birth is NOT A STRING\n",
      "Intake Date is NOT A STRING\n",
      "Outcome Date is NOT A STRING\n",
      "replace null values in Name with 'Unknown'\n",
      "replace null values in Outcome_Date with 'Unknown'\n",
      "replace null values in Outcome_Type with 'Unknown'\n",
      "replace null values in Outcome_Subtype with 'Unknown'\n",
      "replace null values in Outcome_Condition with 'Unknown'\n",
      "replace null values in Outcome_Jurisdiction with 'Unknown'\n",
      "replace null values in Outcome_Zip_Code with 'Unknown'\n",
      "replace null values in Location with 'Unknown'\n",
      "replace null values in Age_Group with 'Unknown'\n"
     ]
    },
    {
     "name": "stderr",
     "output_type": "stream",
     "text": [
      "/Users/jessicahuber/anaconda3/envs/datasci-207/lib/python3.9/site-packages/sklearn/cluster/_kmeans.py:870: FutureWarning: The default value of `n_init` will change from 10 to 'auto' in 1.4. Set the value of `n_init` explicitly to suppress the warning\n",
      "  warnings.warn(\n",
      "/Users/jessicahuber/anaconda3/envs/datasci-207/lib/python3.9/site-packages/sklearn/cluster/_kmeans.py:870: FutureWarning: The default value of `n_init` will change from 10 to 'auto' in 1.4. Set the value of `n_init` explicitly to suppress the warning\n",
      "  warnings.warn(\n",
      "/Users/jessicahuber/anaconda3/envs/datasci-207/lib/python3.9/site-packages/sklearn/cluster/_kmeans.py:870: FutureWarning: The default value of `n_init` will change from 10 to 'auto' in 1.4. Set the value of `n_init` explicitly to suppress the warning\n",
      "  warnings.warn(\n"
     ]
    }
   ],
   "source": [
    "from datetime import datetime, timedelta\n",
    "from sodapy import Socrata\n",
    "client = Socrata(\"data.sonomacounty.ca.gov\", None)\n",
    "\n",
    "end_date_str = datetime.now().strftime(\"%Y-%m-%d\")\n",
    "start_date = datetime.now() - timedelta(days = 50)\n",
    "start_date_str = start_date.strftime(\"%Y-%m-%d\")\n",
    "results = client.get(\n",
    "    \"924a-vesw\",\n",
    "    where=f\"intake_date between '{start_date_str}' and '{end_date_str}'\",\n",
    ")\n",
    "results_df = pd.DataFrame.from_records(results)\n",
    "params = {\n",
    "    'na_data': 'fill',\n",
    "    'drop_outlier_days': False,\n",
    "    'embed':True,\n",
    "    'buckets':[-1,3,14,30,100,99999999],\n",
    "    'sample_dict':\n",
    "        {\n",
    "        'stratify_col':'Type',\n",
    "        'train_size':0.6, 'validate_size':0.2, 'test_size':0.2\n",
    "        }\n",
    "    }\n",
    "results_df = load_df(params, data=results_df, split_data=False)"
   ]
  },
  {
   "cell_type": "code",
   "execution_count": 18,
   "metadata": {},
   "outputs": [
    {
     "name": "stdout",
     "output_type": "stream",
     "text": [
      "transform\n"
     ]
    },
    {
     "data": {
      "text/plain": [
       "array([0, 0, 0, 0, 0, 0, 0, 1, 1, 1, 1, 0, 1, 3, 0, 3, 0, 0, 1, 0, 0, 0,\n",
       "       1, 1, 3, 3, 1, 2, 2, 2, 3, 1, 3, 3, 0, 0, 0, 0, 1, 0, 0, 3, 3, 0,\n",
       "       0, 1, 0, 3, 3, 3, 1, 3, 0, 0, 3, 3, 3, 0, 0, 0, 0, 0, 0, 3, 3, 0,\n",
       "       0, 0, 1, 0, 1, 1, 1, 0, 0, 0, 0, 0, 1, 3, 1, 1, 1, 1, 1, 0, 0, 0,\n",
       "       0, 0, 1, 3, 0, 0, 0, 0, 0, 3, 0, 0, 0, 0, 0, 0, 0, 0, 0, 0, 0, 2,\n",
       "       0, 2, 0, 0, 0, 0, 1, 2, 1, 3, 3, 0, 0, 2, 0, 0, 0, 0, 2, 0, 0, 1,\n",
       "       1, 1, 1, 1, 1, 1, 0, 0, 0, 1, 1, 2, 0, 0, 0, 0, 0, 0, 0, 0, 0, 0,\n",
       "       0, 1, 0, 1, 0, 0, 1, 1, 0, 0, 0, 2, 0, 0, 0, 3, 0, 0, 0, 0, 0, 0,\n",
       "       0, 2, 0, 1, 1, 1, 1, 1, 0, 1, 0, 1, 0, 2, 1, 0, 0, 0, 0, 1, 0, 0,\n",
       "       2, 0, 0, 0, 0, 0, 0, 1, 0, 0, 0, 1, 1, 1, 1, 1, 1, 1, 0, 0, 0, 0,\n",
       "       0, 0, 0, 0, 0, 1, 0, 0, 1, 3, 1, 3, 0, 0, 1, 0, 0, 0, 0, 0, 0, 0,\n",
       "       1, 1, 2, 0, 0, 0, 0, 0, 0, 2, 0, 0, 0, 0, 1, 0, 0, 0, 0, 1, 0, 0,\n",
       "       2, 0, 0, 0, 0, 2, 0, 2, 1, 0, 0, 0, 0, 1, 0, 2, 2, 2, 1, 0, 1, 0,\n",
       "       0, 1, 1, 0, 0, 2, 0, 0, 0, 0, 1, 0, 1, 1, 1, 1, 1, 0, 1, 1, 0, 1,\n",
       "       1, 0, 1, 0, 0, 0, 0, 2, 0, 0, 3, 0, 1, 1, 3, 0, 0, 0, 0, 0, 0, 2,\n",
       "       2, 0, 3, 0, 0, 1, 1, 0, 1, 1, 1, 1, 2, 1, 0, 2, 0])"
      ]
     },
     "execution_count": 18,
     "metadata": {},
     "output_type": "execute_result"
    }
   ],
   "source": [
    "# Predict on the test data\n",
    "y_pred = test_pipeline.predict(results_df)\n",
    "y_pred"
   ]
  },
  {
   "cell_type": "code",
   "execution_count": null,
   "metadata": {},
   "outputs": [],
   "source": []
  }
 ],
 "metadata": {
  "kernelspec": {
   "display_name": "cv_281_3",
   "language": "python",
   "name": "python3"
  },
  "language_info": {
   "codemirror_mode": {
    "name": "ipython",
    "version": 3
   },
   "file_extension": ".py",
   "mimetype": "text/x-python",
   "name": "python",
   "nbconvert_exporter": "python",
   "pygments_lexer": "ipython3",
   "version": "3.9.17"
  }
 },
 "nbformat": 4,
 "nbformat_minor": 2
}
